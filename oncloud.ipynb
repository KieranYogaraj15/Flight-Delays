{
 "cells": [
  {
   "cell_type": "markdown",
   "metadata": {},
   "source": [
    "# Problem: Predicting Airplane Delays\n",
    "\n",
    "The goals of this notebook are:\n",
    "- Process and create a dataset from downloaded ZIP files\n",
    "- Exploratory data analysis (EDA)\n",
    "- Establish a baseline model and improve it\n",
    "\n",
    "## Introduction to business scenario\n",
    "You work for a travel booking website that is working to improve the customer experience for flights that were delayed. The company wants to create a feature to let customers know if the flight will be delayed due to weather when the customers are booking the flight to or from the busiest airports for domestic travel in the US. \n",
    "\n",
    "You are tasked with solving part of this problem by leveraging machine learning to identify whether the flight will be delayed due to weather. You have been given access to the a dataset of on-time performance of domestic flights operated by large air carriers. You can use this data to train a machine learning model to predict if the flight is going to be delayed for the busiest airports.\n",
    "\n",
    "### Dataset\n",
    "The provided dataset contains scheduled and actual departure and arrival times reported by certified US air carriers that account for at least 1 percent of domestic scheduled passenger revenues. The data was collected by the Office of Airline Information, Bureau of Transportation Statistics (BTS). The dataset contains date, time, origin, destination, airline, distance, and delay status of flights for flights between 2014 and 2018.\n",
    "The data are in 60 compressed files, where each file contains a CSV for the flight details in a month for the five years (from 2014 - 2018). The data can be downloaded from this link: [https://ucstaff-my.sharepoint.com/:f:/g/personal/ibrahim_radwan_canberra_edu_au/Er0nVreXmihEmtMz5qC5kVIB81-ugSusExPYdcyQTglfLg?e=bNO312]. Please download the data files and place them on a relative path. Dataset(s) used in this assignment were compiled by the Office of Airline Information, Bureau of Transportation Statistics (BTS), Airline On-Time Performance Data, available with the following link: [https://www.transtats.bts.gov/Fields.asp?gnoyr_VQ=FGJ]. "
   ]
  },
  {
   "cell_type": "markdown",
   "metadata": {},
   "source": [
    "# Step 1: Prepare the environment \n",
    "\n",
    "Use one of the labs which we have practised on with the Amazon Sagemakers where you perform the following steps:\n",
    "1. Start a lab.\n",
    "2. Create a notebook instance and name it \"oncloudproject\".\n",
    "3. Increase the used memory to 25 GB from the additional configurations.\n",
    "4. Open Jupyter Lab and upload this notebook into it.\n",
    "5. Upload the two combined CVS files (combined_csv_v1.csv and combined_csv_v2.csv), which you created in Part A of this project."
   ]
  },
  {
   "cell_type": "markdown",
   "metadata": {},
   "source": [
    "# Step 2: Build and evaluate simple models\n",
    "\n",
    "Write code to perform the follwoing steps:\n",
    "1. Split data into training, validation and testing sets (70% - 15% - 15%).\n",
    "2. Use linear learner estimator to build a classifcation model.\n",
    "3. Host the model on another instance\n",
    "4. Perform batch transform to evaluate the model on testing data\n",
    "5. Report the performance metrics that you see better test the model performance \n",
    "\n",
    "Note: You are required to perform the above steps on the two combined datasets separatey and to comments on the difference."
   ]
  },
  {
   "cell_type": "markdown",
   "metadata": {},
   "source": [
    "### Import Libraries"
   ]
  },
  {
   "cell_type": "code",
   "execution_count": 32,
   "metadata": {},
   "outputs": [],
   "source": [
    "import pandas as pd\n",
    "import sagemaker\n",
    "import boto3\n",
    "import io\n",
    "import os\n",
    "import matplotlib.pyplot as plt\n",
    "import seaborn as sns\n",
    "from sagemaker.estimator import Estimator\n",
    "from sagemaker.amazon.amazon_estimator import get_image_uri\n",
    "from time import strftime, gmtime\n",
    "from sagemaker.predictor import csv_serializer, csv_deserializer\n",
    "from sklearn.metrics import confusion_matrix, ConfusionMatrixDisplay, roc_curve, classification_report"
   ]
  },
  {
   "cell_type": "markdown",
   "metadata": {},
   "source": [
    "## Combined CSV V1"
   ]
  },
  {
   "cell_type": "code",
   "execution_count": null,
   "metadata": {},
   "outputs": [],
   "source": [
    "#Import the dataset\n",
    "data_v1 = pd.read_csv(\"combined_csv_v1.csv\")"
   ]
  },
  {
   "cell_type": "code",
   "execution_count": null,
   "metadata": {},
   "outputs": [],
   "source": [
    "data_v1.head()"
   ]
  },
  {
   "cell_type": "code",
   "execution_count": null,
   "metadata": {},
   "outputs": [],
   "source": [
    "data_v1.shape"
   ]
  },
  {
   "cell_type": "code",
   "execution_count": null,
   "metadata": {},
   "outputs": [],
   "source": [
    "data_v1.columns"
   ]
  },
  {
   "cell_type": "code",
   "execution_count": null,
   "metadata": {},
   "outputs": [],
   "source": [
    "#Move target column to front\n",
    "data_v1 = pd.concat([data_v1['target'], data_v1.drop(['target', 'Unnamed: 0'], axis=1)], axis=1)"
   ]
  },
  {
   "cell_type": "markdown",
   "metadata": {},
   "source": [
    "### Split data into training, validation and testing sets (70% - 15% - 15%)."
   ]
  },
  {
   "cell_type": "code",
   "execution_count": null,
   "metadata": {},
   "outputs": [],
   "source": [
    "training_v1 = data_v1.sample(frac=0.70, random_state=0)\n",
    "testing_validation_v1 = data_v1.loc[~data_v1.index.isin(training_v1.index), :]\n",
    "validation_v1 = testing_validation_v1.sample(frac=0.5, random_state=0)\n",
    "testing_v1 = testing_validation_v1.loc[~testing_validation_v1.index.isin(validation_v1.index), :]\n",
    "\n",
    "print(training_v1.shape)\n",
    "print(validation_v1.shape)\n",
    "print(testing_v1.shape)"
   ]
  },
  {
   "cell_type": "code",
   "execution_count": null,
   "metadata": {},
   "outputs": [],
   "source": [
    "training_v1.to_csv('training_v1.csv', index=False, header=False)\n",
    "validation_v1.to_csv('validation_v1.csv', index=False, header=False)\n",
    "testing_v1.to_csv('testing_v1.csv', index=False, header=False)"
   ]
  },
  {
   "cell_type": "code",
   "execution_count": null,
   "metadata": {},
   "outputs": [],
   "source": [
    "sess = sagemaker.Session()\n",
    "bucket = sess.default_bucket()\n",
    "\n",
    "prefix = 'flights_delay_linear1'\n",
    "training_data_path = sess.upload_data(path='training_v1.csv', key_prefix=prefix + '/input/training')\n",
    "validation_data_path = sess.upload_data(path='validation_v1.csv', key_prefix=prefix + '/input/validation')\n",
    "testing_data_path = sess.upload_data(path='testing_v1.csv', key_prefix=prefix + '/input/testing')\n",
    "\n",
    "print(training_data_path)\n",
    "print(validation_data_path)\n",
    "print(testing_data_path)"
   ]
  },
  {
   "cell_type": "markdown",
   "metadata": {},
   "source": [
    "### Use linear learner estimator to build a classifcation model."
   ]
  },
  {
   "cell_type": "code",
   "execution_count": null,
   "metadata": {},
   "outputs": [],
   "source": [
    "region = boto3.Session().region_name    \n",
    "container = get_image_uri(region, 'linear-learner')\n",
    "\n",
    "role = sagemaker.get_execution_role() \n",
    "\n",
    "ll_estimator = Estimator(container,\n",
    "    role=role, \n",
    "    train_instance_count=1,\n",
    "    train_instance_type='ml.c5.9xlarge',\n",
    "    output_path='s3://{}/{}/output'.format(bucket, prefix)\n",
    ")\n",
    "\n",
    "ll_estimator.set_hyperparameters(predictor_type='binary_classifier', mini_batch_size=32)"
   ]
  },
  {
   "cell_type": "code",
   "execution_count": null,
   "metadata": {},
   "outputs": [],
   "source": [
    "training_data_channel   = sagemaker.TrainingInput(s3_data=training_data_path, content_type='text/csv')\n",
    "validation_data_channel = sagemaker.TrainingInput(s3_data=validation_data_path, content_type='text/csv')\n",
    "testing_data_channel    = sagemaker.TrainingInput(s3_data=testing_data_path, content_type='text/csv')\n",
    "\n",
    "ll_data = {'train': training_data_channel, 'validation': validation_data_channel}"
   ]
  },
  {
   "cell_type": "code",
   "execution_count": null,
   "metadata": {},
   "outputs": [],
   "source": [
    "ll_estimator.fit(ll_data)"
   ]
  },
  {
   "cell_type": "markdown",
   "metadata": {},
   "source": [
    "### Host the model on another instance"
   ]
  },
  {
   "cell_type": "code",
   "execution_count": null,
   "metadata": {},
   "outputs": [],
   "source": [
    "%%bash -s \"$ll_estimator.output_path\"\n",
    "aws s3 ls --recursive $1"
   ]
  },
  {
   "cell_type": "code",
   "execution_count": null,
   "metadata": {},
   "outputs": [],
   "source": [
    "timestamp = strftime('%d-%H-%M-%S', gmtime())\n",
    "\n",
    "endpoint_name = 'linear-learner-1-'+timestamp\n",
    "print(endpoint_name)"
   ]
  },
  {
   "cell_type": "code",
   "execution_count": null,
   "metadata": {},
   "outputs": [],
   "source": [
    "ll_predictor.delete_endpoint()"
   ]
  },
  {
   "cell_type": "markdown",
   "metadata": {},
   "source": [
    "### Perform batch transform to evaluate the model on testing data"
   ]
  },
  {
   "cell_type": "code",
   "execution_count": null,
   "metadata": {},
   "outputs": [],
   "source": [
    "testing_v1 = pd.read_csv(\"testing_v1.csv\", header=None)\n",
    "batch_X = testing_v1.iloc[:,1:]\n",
    "batch_X.head()"
   ]
  },
  {
   "cell_type": "code",
   "execution_count": null,
   "metadata": {},
   "outputs": [],
   "source": [
    "s3_resource = boto3.Session().resource('s3')\n",
    "def upload_s3_csv(filename, folder, dataframe):\n",
    "    csv_buffer = io.StringIO()\n",
    "    dataframe.to_csv(csv_buffer, header=False, index=False )\n",
    "    s3_resource.Bucket(bucket).Object(os.path.join(prefix, folder, filename)).put(Body=csv_buffer.getvalue())"
   ]
  },
  {
   "cell_type": "code",
   "execution_count": null,
   "metadata": {},
   "outputs": [],
   "source": [
    "batch_X_file='batch-in.csv'\n",
    "upload_s3_csv(batch_X_file, 'batch-in', batch_X)"
   ]
  },
  {
   "cell_type": "code",
   "execution_count": null,
   "metadata": {},
   "outputs": [],
   "source": [
    "batch_output = \"s3://{}/{}/batch-out/\".format(bucket,prefix)\n",
    "batch_input = \"s3://{}/{}/batch-in/{}\".format(bucket,prefix,batch_X_file)\n",
    "\n",
    "ll_transformer = ll_estimator.transformer(instance_count=1,\n",
    "                                          instance_type='ml.c5.9xlarge',\n",
    "                                          strategy='MultiRecord',\n",
    "                                          assemble_with='Line',\n",
    "                                          output_path=batch_output)\n",
    "\n",
    "ll_transformer.transform(data=batch_input,\n",
    "                         data_type='S3Prefix',\n",
    "                         content_type='text/csv',\n",
    "                         split_type='Line')\n",
    "ll_transformer.wait()"
   ]
  },
  {
   "cell_type": "code",
   "execution_count": null,
   "metadata": {},
   "outputs": [],
   "source": [
    "s3 = boto3.client('s3')\n",
    "obj = s3.get_object(Bucket=bucket, Key=\"{}/batch-out/{}\".format(prefix,'batch-in.csv.out'))\n",
    "target_predicted = pd.read_csv(io.BytesIO(obj['Body'].read()),',',names=['class'])\n",
    "target_predicted.head(5)"
   ]
  },
  {
   "cell_type": "code",
   "execution_count": null,
   "metadata": {},
   "outputs": [],
   "source": [
    "def binary_convert(x):\n",
    "    threshold = 0.65\n",
    "    if x > threshold:\n",
    "        return 1\n",
    "    else:\n",
    "        return 0\n",
    "\n",
    "target_predicted['binary'] = target_predicted['class'].apply(binary_convert)\n",
    "\n",
    "print(target_predicted.head(10))\n",
    "testing_v1.head(10)"
   ]
  },
  {
   "cell_type": "markdown",
   "metadata": {},
   "source": [
    "### Report the performance metrics that you see better test the model performance"
   ]
  },
  {
   "cell_type": "code",
   "execution_count": null,
   "metadata": {},
   "outputs": [],
   "source": [
    "#Confusion Matrix\n",
    "def plot_confusion_matrix(test_labels, target_predicted):\n",
    "    cm = confusion_matrix(test_labels, target_predicted, labels=[0,1])\n",
    "    disp = ConfusionMatrixDisplay(confusion_matrix=cm, display_labels=[0,1])\n",
    "    disp.plot()\n",
    "    plt.grid(False) #Remove white lines in plot\n",
    "    plt.show()"
   ]
  },
  {
   "cell_type": "code",
   "execution_count": null,
   "metadata": {},
   "outputs": [],
   "source": [
    "#ROC Curve\n",
    "def plot_roc(test_labels, target_predicted):\n",
    "    fpr, tpr, thresholds = roc_curve(test_labels, target_predicted)\n",
    "    plt.plot(fpr,tpr)\n",
    "    plt.ylabel('True Positive Rate')\n",
    "    plt.xlabel('False Positive Rate')\n",
    "    plt.show()"
   ]
  },
  {
   "cell_type": "code",
   "execution_count": null,
   "metadata": {},
   "outputs": [],
   "source": [
    "plot_confusion_matrix(testing_v1.iloc[:,0], target_predicted.binary)"
   ]
  },
  {
   "cell_type": "code",
   "execution_count": null,
   "metadata": {},
   "outputs": [],
   "source": [
    "plot_roc(testing_v1.iloc[:,0], target_predicted.binary)"
   ]
  },
  {
   "cell_type": "code",
   "execution_count": null,
   "metadata": {},
   "outputs": [],
   "source": [
    "print(classification_report(testing_v1.iloc[:,0], target_predicted.binary))"
   ]
  },
  {
   "cell_type": "markdown",
   "metadata": {},
   "source": [
    "## Combined CSV V2"
   ]
  },
  {
   "cell_type": "code",
   "execution_count": null,
   "metadata": {},
   "outputs": [],
   "source": [
    "#Import the dataset\n",
    "data_v2 = pd.read_csv(\"combined_csv_v2.csv\")"
   ]
  },
  {
   "cell_type": "code",
   "execution_count": null,
   "metadata": {},
   "outputs": [],
   "source": [
    "data_v2.head()"
   ]
  },
  {
   "cell_type": "code",
   "execution_count": null,
   "metadata": {},
   "outputs": [],
   "source": [
    "data_v2.shape"
   ]
  },
  {
   "cell_type": "code",
   "execution_count": null,
   "metadata": {},
   "outputs": [],
   "source": [
    "data_v2.columns"
   ]
  },
  {
   "cell_type": "code",
   "execution_count": null,
   "metadata": {},
   "outputs": [],
   "source": [
    "#Move target column to front\n",
    "data_v2 = pd.concat([data_v2['target'], data_v2.drop(['target', 'Unnamed: 0'], axis=1)], axis=1)"
   ]
  },
  {
   "cell_type": "markdown",
   "metadata": {},
   "source": [
    "### Split data into training, validation and testing sets (70% - 15% - 15%)."
   ]
  },
  {
   "cell_type": "code",
   "execution_count": null,
   "metadata": {},
   "outputs": [],
   "source": [
    "training_v2 = data_v2.sample(frac=0.70, random_state=0)\n",
    "testing_validation_v2 = data_v2.loc[~data_v2.index.isin(training_v2.index), :]\n",
    "validation_v2 = testing_validation_v2.sample(frac=0.5, random_state=0)\n",
    "testing_v2 = testing_validation_v2.loc[~testing_validation_v2.index.isin(validation_v2.index), :]\n",
    "\n",
    "print(training_v2.shape)\n",
    "print(validation_v2.shape)\n",
    "print(testing_v2.shape)"
   ]
  },
  {
   "cell_type": "code",
   "execution_count": null,
   "metadata": {},
   "outputs": [],
   "source": [
    "training_v2.to_csv('training_v2.csv', index=False, header=False)\n",
    "validation_v2.to_csv('validation_v2.csv', index=False, header=False)\n",
    "testing_v2.to_csv('testing_v2.csv', index=False, header=False)"
   ]
  },
  {
   "cell_type": "code",
   "execution_count": null,
   "metadata": {},
   "outputs": [],
   "source": [
    "sess = sagemaker.Session()\n",
    "bucket = sess.default_bucket()\n",
    "\n",
    "prefix = 'flights_delay_linear2'\n",
    "training_data_path = sess.upload_data(path='training_v2.csv', key_prefix=prefix + '/input/training')\n",
    "validation_data_path = sess.upload_data(path='validation_v2.csv', key_prefix=prefix + '/input/validation')\n",
    "testing_data_path = sess.upload_data(path='testing_v2.csv', key_prefix=prefix + '/input/testing')\n",
    "\n",
    "print(training_data_path)\n",
    "print(validation_data_path)\n",
    "print(testing_data_path)"
   ]
  },
  {
   "cell_type": "markdown",
   "metadata": {},
   "source": [
    "### Use linear learner estimator to build a classifcation model."
   ]
  },
  {
   "cell_type": "code",
   "execution_count": null,
   "metadata": {},
   "outputs": [],
   "source": [
    "region = boto3.Session().region_name    \n",
    "container = get_image_uri(region, 'linear-learner')\n",
    "\n",
    "role = sagemaker.get_execution_role() \n",
    "\n",
    "ll_estimator = Estimator(container,\n",
    "    role=role, \n",
    "    train_instance_count=1,\n",
    "    train_instance_type='ml.c5.9xlarge',\n",
    "    output_path='s3://{}/{}/output'.format(bucket, prefix)\n",
    ")\n",
    "\n",
    "ll_estimator.set_hyperparameters(predictor_type='binary_classifier', mini_batch_size=32)"
   ]
  },
  {
   "cell_type": "code",
   "execution_count": null,
   "metadata": {},
   "outputs": [],
   "source": [
    "training_data_channel   = sagemaker.TrainingInput(s3_data=training_data_path, content_type='text/csv')\n",
    "validation_data_channel = sagemaker.TrainingInput(s3_data=validation_data_path, content_type='text/csv')\n",
    "testing_data_channel    = sagemaker.TrainingInput(s3_data=testing_data_path, content_type='text/csv')\n",
    "\n",
    "ll_data = {'train': training_data_channel, 'validation': validation_data_channel}"
   ]
  },
  {
   "cell_type": "code",
   "execution_count": null,
   "metadata": {},
   "outputs": [],
   "source": [
    "ll_estimator.fit(ll_data)"
   ]
  },
  {
   "cell_type": "markdown",
   "metadata": {},
   "source": [
    "### Host the model on another instance"
   ]
  },
  {
   "cell_type": "code",
   "execution_count": null,
   "metadata": {},
   "outputs": [],
   "source": [
    "%%bash -s \"$ll_estimator.output_path\"\n",
    "aws s3 ls --recursive $1"
   ]
  },
  {
   "cell_type": "code",
   "execution_count": null,
   "metadata": {},
   "outputs": [],
   "source": [
    "timestamp = strftime('%d-%H-%M-%S', gmtime())\n",
    "\n",
    "endpoint_name = 'linear-learner-2-'+timestamp\n",
    "print(endpoint_name)"
   ]
  },
  {
   "cell_type": "code",
   "execution_count": null,
   "metadata": {},
   "outputs": [],
   "source": [
    "ll_predictor.delete_endpoint()"
   ]
  },
  {
   "cell_type": "markdown",
   "metadata": {},
   "source": [
    "### Perform batch transform to evaluate the model on testing data"
   ]
  },
  {
   "cell_type": "code",
   "execution_count": null,
   "metadata": {},
   "outputs": [],
   "source": [
    "testing_v2 = pd.read_csv(\"testing_v2.csv\", header=None)\n",
    "batch_X = testing_v2.iloc[:,1:]\n",
    "batch_X.head()"
   ]
  },
  {
   "cell_type": "code",
   "execution_count": null,
   "metadata": {},
   "outputs": [],
   "source": [
    "s3_resource = boto3.Session().resource('s3')\n",
    "def upload_s3_csv(filename, folder, dataframe):\n",
    "    csv_buffer = io.StringIO()\n",
    "    dataframe.to_csv(csv_buffer, header=False, index=False )\n",
    "    s3_resource.Bucket(bucket).Object(os.path.join(prefix, folder, filename)).put(Body=csv_buffer.getvalue())"
   ]
  },
  {
   "cell_type": "code",
   "execution_count": null,
   "metadata": {},
   "outputs": [],
   "source": [
    "batch_X_file='batch-in.csv'\n",
    "upload_s3_csv(batch_X_file, 'batch-in', batch_X)"
   ]
  },
  {
   "cell_type": "code",
   "execution_count": null,
   "metadata": {},
   "outputs": [],
   "source": [
    "batch_output = \"s3://{}/{}/batch-out/\".format(bucket,prefix)\n",
    "batch_input = \"s3://{}/{}/batch-in/{}\".format(bucket,prefix,batch_X_file)\n",
    "\n",
    "ll_transformer = ll_estimator.transformer(instance_count=1,\n",
    "                                          instance_type='ml.c5.9xlarge',\n",
    "                                          strategy='MultiRecord',\n",
    "                                          assemble_with='Line',\n",
    "                                          output_path=batch_output)\n",
    "\n",
    "ll_transformer.transform(data=batch_input,\n",
    "                         data_type='S3Prefix',\n",
    "                         content_type='text/csv',\n",
    "                         split_type='Line')\n",
    "ll_transformer.wait()"
   ]
  },
  {
   "cell_type": "code",
   "execution_count": null,
   "metadata": {},
   "outputs": [],
   "source": [
    "s3 = boto3.client('s3')\n",
    "obj = s3.get_object(Bucket=bucket, Key=\"{}/batch-out/{}\".format(prefix,'batch-in.csv.out'))\n",
    "target_predicted = pd.read_csv(io.BytesIO(obj['Body'].read()),',',names=['class'])\n",
    "target_predicted.head(5)"
   ]
  },
  {
   "cell_type": "code",
   "execution_count": null,
   "metadata": {},
   "outputs": [],
   "source": [
    "def binary_convert(x):\n",
    "    threshold = 0.65\n",
    "    if x > threshold:\n",
    "        return 1\n",
    "    else:\n",
    "        return 0\n",
    "\n",
    "target_predicted['binary'] = target_predicted['class'].apply(binary_convert)\n",
    "\n",
    "print(target_predicted.head(10))\n",
    "testing_v2.head(10)"
   ]
  },
  {
   "cell_type": "markdown",
   "metadata": {},
   "source": [
    "### Report the performance metrics that you see better test the model performance"
   ]
  },
  {
   "cell_type": "code",
   "execution_count": null,
   "metadata": {},
   "outputs": [],
   "source": [
    "#Confusion Matrix\n",
    "def plot_confusion_matrix(test_labels, target_predicted):\n",
    "    cm = confusion_matrix(test_labels, target_predicted, labels=[0,1])\n",
    "    disp = ConfusionMatrixDisplay(confusion_matrix=cm, display_labels=[0,1])\n",
    "    disp.plot()\n",
    "    plt.grid(False) #Remove white lines in plot\n",
    "    plt.show()"
   ]
  },
  {
   "cell_type": "code",
   "execution_count": null,
   "metadata": {},
   "outputs": [],
   "source": [
    "#ROC Curve\n",
    "def plot_roc(test_labels, target_predicted):\n",
    "    fpr, tpr, thresholds = roc_curve(test_labels, target_predicted)\n",
    "    plt.plot(fpr,tpr)\n",
    "    plt.ylabel('True Positive Rate')\n",
    "    plt.xlabel('False Positive Rate')\n",
    "    plt.show()"
   ]
  },
  {
   "cell_type": "code",
   "execution_count": null,
   "metadata": {},
   "outputs": [],
   "source": [
    "plot_confusion_matrix(testing_v2.iloc[:,0], target_predicted.binary)"
   ]
  },
  {
   "cell_type": "code",
   "execution_count": null,
   "metadata": {},
   "outputs": [],
   "source": [
    "plot_roc(testing_v2.iloc[:,0], target_predicted.binary)"
   ]
  },
  {
   "cell_type": "code",
   "execution_count": null,
   "metadata": {},
   "outputs": [],
   "source": [
    "print(classification_report(testing_v2.iloc[:,0], target_predicted.binary))"
   ]
  },
  {
   "cell_type": "code",
   "execution_count": null,
   "metadata": {},
   "outputs": [],
   "source": [
    "# Write the final comments here and turn the cell type into markdown"
   ]
  },
  {
   "cell_type": "markdown",
   "metadata": {},
   "source": [
    "# Step 3: Build and evaluate ensembe models\n",
    "\n",
    "Write code to perform the follwoing steps:\n",
    "1. Split data into training, validation and testing sets (70% - 15% - 15%).\n",
    "2. Use xgboost estimator to build a classifcation model.\n",
    "3. Host the model on another instance\n",
    "4. Perform batch transform to evaluate the model on testing data\n",
    "5. Report the performance metrics that you see better test the model performance \n",
    "6. write down your observation on the difference between the performance of using the simple and ensemble models.\n",
    "Note: You are required to perform the above steps on the two combined datasets separatey."
   ]
  },
  {
   "cell_type": "markdown",
   "metadata": {},
   "source": [
    "## Combined CSV V1"
   ]
  },
  {
   "cell_type": "code",
   "execution_count": null,
   "metadata": {},
   "outputs": [],
   "source": [
    "#Import the dataset\n",
    "data_v1 = pd.read_csv(\"combined_csv_v1.csv\")"
   ]
  },
  {
   "cell_type": "code",
   "execution_count": null,
   "metadata": {},
   "outputs": [],
   "source": [
    "data_v1.head()"
   ]
  },
  {
   "cell_type": "code",
   "execution_count": null,
   "metadata": {},
   "outputs": [],
   "source": [
    "data_v1.shape"
   ]
  },
  {
   "cell_type": "code",
   "execution_count": null,
   "metadata": {},
   "outputs": [],
   "source": [
    "data_v1.columns"
   ]
  },
  {
   "cell_type": "code",
   "execution_count": null,
   "metadata": {},
   "outputs": [],
   "source": [
    "#Move target column to front\n",
    "data_v1 = pd.concat([data_v1['target'], data_v1.drop(['target', 'Unnamed: 0'], axis=1)], axis=1)"
   ]
  },
  {
   "cell_type": "markdown",
   "metadata": {},
   "source": [
    "### Split data into training, validation and testing sets (70% - 15% - 15%)."
   ]
  },
  {
   "cell_type": "code",
   "execution_count": null,
   "metadata": {},
   "outputs": [],
   "source": [
    "training_v1 = data_v1.sample(frac=0.70, random_state=0)\n",
    "testing_validation_v1 = data_v1.loc[~data_v1.index.isin(training_v1.index), :]\n",
    "validation_v1 = testing_validation_v1.sample(frac=0.5, random_state=0)\n",
    "testing_v1 = testing_validation_v1.loc[~testing_validation_v1.index.isin(validation_v1.index), :]\n",
    "\n",
    "print(training_v1.shape)\n",
    "print(validation_v1.shape)\n",
    "print(testing_v1.shape)"
   ]
  },
  {
   "cell_type": "code",
   "execution_count": null,
   "metadata": {},
   "outputs": [],
   "source": [
    "training_v1.to_csv('training_v1.csv', index=False, header=False)\n",
    "validation_v1.to_csv('validation_v1.csv', index=False, header=False)\n",
    "testing_v1.to_csv('testing_v1.csv', index=False, header=False)"
   ]
  },
  {
   "cell_type": "code",
   "execution_count": 3,
   "metadata": {},
   "outputs": [
    {
     "name": "stdout",
     "output_type": "stream",
     "text": [
      "s3://sagemaker-us-east-1-001681017689/flights_delay_xgboost1/input/training/training_v1.csv\n",
      "s3://sagemaker-us-east-1-001681017689/flights_delay_xgboost1/input/validation/validation_v1.csv\n",
      "s3://sagemaker-us-east-1-001681017689/flights_delay_xgboost1/input/testing/testing_v1.csv\n"
     ]
    }
   ],
   "source": [
    "sess = sagemaker.Session()\n",
    "bucket = sess.default_bucket()\n",
    "\n",
    "prefix = 'flights_delay_xgboost1'\n",
    "training_data_path = sess.upload_data(path='training_v1.csv', key_prefix=prefix + '/input/training')\n",
    "validation_data_path = sess.upload_data(path='validation_v1.csv', key_prefix=prefix + '/input/validation')\n",
    "testing_data_path = sess.upload_data(path='testing_v1.csv', key_prefix=prefix + '/input/testing')\n",
    "\n",
    "print(training_data_path)\n",
    "print(validation_data_path)\n",
    "print(testing_data_path)"
   ]
  },
  {
   "cell_type": "markdown",
   "metadata": {},
   "source": [
    "### Use xgboost estimator to build a classifcation model."
   ]
  },
  {
   "cell_type": "code",
   "execution_count": 4,
   "metadata": {},
   "outputs": [
    {
     "name": "stderr",
     "output_type": "stream",
     "text": [
      "The method get_image_uri has been renamed in sagemaker>=2.\n",
      "See: https://sagemaker.readthedocs.io/en/stable/v2.html for details.\n",
      "train_instance_count has been renamed in sagemaker>=2.\n",
      "See: https://sagemaker.readthedocs.io/en/stable/v2.html for details.\n",
      "train_instance_type has been renamed in sagemaker>=2.\n",
      "See: https://sagemaker.readthedocs.io/en/stable/v2.html for details.\n"
     ]
    }
   ],
   "source": [
    "region = boto3.Session().region_name    \n",
    "container = get_image_uri(region, 'xgboost', repo_version='1.0-1')\n",
    "\n",
    "role = sagemaker.get_execution_role() \n",
    "\n",
    "xgb_estimator = Estimator(container,\n",
    "    role=role, \n",
    "    train_instance_count=1,\n",
    "    train_instance_type='ml.c5.9xlarge',\n",
    "    output_path='s3://{}/{}/output'.format(bucket, prefix)\n",
    ")\n",
    "\n",
    "xgb_estimator.set_hyperparameters(objective='binary:logistic',\n",
    "                                 num_round=200,\n",
    "                                 early_stopping_rounds=10)"
   ]
  },
  {
   "cell_type": "code",
   "execution_count": 5,
   "metadata": {},
   "outputs": [],
   "source": [
    "training_data_channel   = sagemaker.TrainingInput(s3_data=training_data_path, content_type='text/csv')\n",
    "validation_data_channel = sagemaker.TrainingInput(s3_data=validation_data_path, content_type='text/csv')\n",
    "testing_data_channel = sagemaker.TrainingInput(s3_data=testing_data_path, content_type='text/csv')\n",
    "\n",
    "xgb_data = {'train': training_data_channel, 'validation': validation_data_channel}"
   ]
  },
  {
   "cell_type": "code",
   "execution_count": 6,
   "metadata": {},
   "outputs": [
    {
     "name": "stdout",
     "output_type": "stream",
     "text": [
      "2022-11-05 00:23:35 Starting - Starting the training job...\n",
      "2022-11-05 00:23:58 Starting - Preparing the instances for trainingProfilerReport-1667607815: InProgress\n",
      "......\n",
      "2022-11-05 00:25:05 Downloading - Downloading input data......\n",
      "2022-11-05 00:25:59 Training - Training image download completed. Training in progress.\u001b[34mINFO:sagemaker-containers:Imported framework sagemaker_xgboost_container.training\u001b[0m\n",
      "\u001b[34mINFO:sagemaker-containers:Failed to parse hyperparameter objective value binary:logistic to Json.\u001b[0m\n",
      "\u001b[34mReturning the value itself\u001b[0m\n",
      "\u001b[34mINFO:sagemaker-containers:No GPUs detected (normal if no gpus installed)\u001b[0m\n",
      "\u001b[34mINFO:sagemaker_xgboost_container.training:Running XGBoost Sagemaker in algorithm mode\u001b[0m\n",
      "\u001b[34mINFO:root:Determined delimiter of CSV input is ','\u001b[0m\n",
      "\u001b[34mINFO:root:Determined delimiter of CSV input is ','\u001b[0m\n",
      "\u001b[34mINFO:root:Determined delimiter of CSV input is ','\u001b[0m\n",
      "\u001b[34m[00:25:57] 1144913x93 matrix with 106476909 entries loaded from /opt/ml/input/data/train?format=csv&label_column=0&delimiter=,\u001b[0m\n",
      "\u001b[34mINFO:root:Determined delimiter of CSV input is ','\u001b[0m\n",
      "\u001b[34m[00:25:58] 245338x93 matrix with 22816434 entries loaded from /opt/ml/input/data/validation?format=csv&label_column=0&delimiter=,\u001b[0m\n",
      "\u001b[34mINFO:root:Single node training.\u001b[0m\n",
      "\u001b[34m[2022-11-05 00:25:58.006 ip-10-2-102-137.ec2.internal:1 INFO json_config.py:90] Creating hook from json_config at /opt/ml/input/config/debughookconfig.json.\u001b[0m\n",
      "\u001b[34m[2022-11-05 00:25:58.006 ip-10-2-102-137.ec2.internal:1 INFO hook.py:151] tensorboard_dir has not been set for the hook. SMDebug will not be exporting tensorboard summaries.\u001b[0m\n",
      "\u001b[34m[2022-11-05 00:25:58.006 ip-10-2-102-137.ec2.internal:1 INFO hook.py:196] Saving to /opt/ml/output/tensors\u001b[0m\n",
      "\u001b[34mINFO:root:Debug hook created from config\u001b[0m\n",
      "\u001b[34mINFO:root:Train matrix has 1144913 rows\u001b[0m\n",
      "\u001b[34mINFO:root:Validation matrix has 245338 rows\u001b[0m\n",
      "\u001b[34m[00:25:58] WARNING: /workspace/src/learner.cc:328: \u001b[0m\n",
      "\u001b[34mParameters: { early_stopping_rounds, num_round } might not be used.\n",
      "  This may not be accurate due to some parameters are only used in language bindings but\n",
      "  passed down to XGBoost core.  Or some parameters are not used but slip through this\n",
      "  verification. Please open an issue if you find above cases.\u001b[0m\n",
      "\u001b[34m[0]#011train-error:0.20978#011validation-error:0.20978\u001b[0m\n",
      "\u001b[34m[2022-11-05 00:25:59.060 ip-10-2-102-137.ec2.internal:1 INFO hook.py:325] Monitoring the collections: metrics\u001b[0m\n",
      "\u001b[34m[1]#011train-error:0.20988#011validation-error:0.20990\u001b[0m\n",
      "\u001b[34m[2]#011train-error:0.20988#011validation-error:0.20987\u001b[0m\n",
      "\u001b[34m[3]#011train-error:0.20988#011validation-error:0.20987\u001b[0m\n",
      "\u001b[34m[4]#011train-error:0.20988#011validation-error:0.20987\u001b[0m\n",
      "\u001b[34m[5]#011train-error:0.20986#011validation-error:0.20985\u001b[0m\n",
      "\u001b[34m[6]#011train-error:0.20984#011validation-error:0.20983\u001b[0m\n",
      "\u001b[34m[7]#011train-error:0.20985#011validation-error:0.20984\u001b[0m\n",
      "\u001b[34m[8]#011train-error:0.20980#011validation-error:0.20982\u001b[0m\n",
      "\u001b[34m[9]#011train-error:0.20980#011validation-error:0.20981\u001b[0m\n",
      "\u001b[34m[10]#011train-error:0.20974#011validation-error:0.20974\u001b[0m\n",
      "\u001b[34m[11]#011train-error:0.20971#011validation-error:0.20972\u001b[0m\n",
      "\u001b[34m[12]#011train-error:0.20965#011validation-error:0.20964\u001b[0m\n",
      "\u001b[34m[13]#011train-error:0.20959#011validation-error:0.20959\u001b[0m\n",
      "\u001b[34m[14]#011train-error:0.20958#011validation-error:0.20955\u001b[0m\n",
      "\u001b[34m[15]#011train-error:0.20958#011validation-error:0.20956\u001b[0m\n",
      "\u001b[34m[16]#011train-error:0.20954#011validation-error:0.20947\u001b[0m\n",
      "\u001b[34m[17]#011train-error:0.20952#011validation-error:0.20945\u001b[0m\n",
      "\u001b[34m[18]#011train-error:0.20945#011validation-error:0.20931\u001b[0m\n",
      "\u001b[34m[19]#011train-error:0.20942#011validation-error:0.20931\u001b[0m\n",
      "\u001b[34m[20]#011train-error:0.20936#011validation-error:0.20927\u001b[0m\n",
      "\u001b[34m[21]#011train-error:0.20934#011validation-error:0.20923\u001b[0m\n",
      "\u001b[34m[22]#011train-error:0.20928#011validation-error:0.20917\u001b[0m\n",
      "\u001b[34m[23]#011train-error:0.20917#011validation-error:0.20913\u001b[0m\n",
      "\u001b[34m[24]#011train-error:0.20914#011validation-error:0.20909\u001b[0m\n",
      "\u001b[34m[25]#011train-error:0.20907#011validation-error:0.20900\u001b[0m\n",
      "\u001b[34m[26]#011train-error:0.20900#011validation-error:0.20894\u001b[0m\n",
      "\u001b[34m[27]#011train-error:0.20892#011validation-error:0.20882\u001b[0m\n",
      "\u001b[34m[28]#011train-error:0.20886#011validation-error:0.20876\u001b[0m\n",
      "\u001b[34m[29]#011train-error:0.20875#011validation-error:0.20865\u001b[0m\n",
      "\u001b[34m[30]#011train-error:0.20870#011validation-error:0.20860\u001b[0m\n",
      "\u001b[34m[31]#011train-error:0.20857#011validation-error:0.20848\u001b[0m\n",
      "\u001b[34m[32]#011train-error:0.20855#011validation-error:0.20843\u001b[0m\n",
      "\u001b[34m[33]#011train-error:0.20852#011validation-error:0.20837\u001b[0m\n",
      "\u001b[34m[34]#011train-error:0.20846#011validation-error:0.20834\u001b[0m\n",
      "\u001b[34m[35]#011train-error:0.20842#011validation-error:0.20826\u001b[0m\n",
      "\u001b[34m[36]#011train-error:0.20834#011validation-error:0.20825\u001b[0m\n",
      "\u001b[34m[37]#011train-error:0.20829#011validation-error:0.20812\u001b[0m\n",
      "\u001b[34m[38]#011train-error:0.20820#011validation-error:0.20804\u001b[0m\n",
      "\u001b[34m[39]#011train-error:0.20809#011validation-error:0.20786\u001b[0m\n",
      "\u001b[34m[40]#011train-error:0.20803#011validation-error:0.20781\u001b[0m\n",
      "\u001b[34m[41]#011train-error:0.20798#011validation-error:0.20775\u001b[0m\n",
      "\u001b[34m[42]#011train-error:0.20789#011validation-error:0.20770\u001b[0m\n",
      "\u001b[34m[43]#011train-error:0.20786#011validation-error:0.20766\u001b[0m\n",
      "\u001b[34m[44]#011train-error:0.20783#011validation-error:0.20762\u001b[0m\n",
      "\u001b[34m[45]#011train-error:0.20778#011validation-error:0.20759\u001b[0m\n",
      "\u001b[34m[46]#011train-error:0.20768#011validation-error:0.20753\u001b[0m\n",
      "\u001b[34m[47]#011train-error:0.20766#011validation-error:0.20750\u001b[0m\n",
      "\u001b[34m[48]#011train-error:0.20756#011validation-error:0.20742\u001b[0m\n",
      "\u001b[34m[49]#011train-error:0.20749#011validation-error:0.20738\u001b[0m\n",
      "\u001b[34m[50]#011train-error:0.20746#011validation-error:0.20737\u001b[0m\n",
      "\u001b[34m[51]#011train-error:0.20738#011validation-error:0.20732\u001b[0m\n",
      "\u001b[34m[52]#011train-error:0.20732#011validation-error:0.20730\u001b[0m\n",
      "\u001b[34m[53]#011train-error:0.20723#011validation-error:0.20721\u001b[0m\n",
      "\u001b[34m[54]#011train-error:0.20719#011validation-error:0.20717\u001b[0m\n",
      "\u001b[34m[55]#011train-error:0.20716#011validation-error:0.20716\u001b[0m\n",
      "\u001b[34m[56]#011train-error:0.20708#011validation-error:0.20705\u001b[0m\n",
      "\u001b[34m[57]#011train-error:0.20702#011validation-error:0.20702\u001b[0m\n",
      "\u001b[34m[58]#011train-error:0.20695#011validation-error:0.20698\u001b[0m\n",
      "\u001b[34m[59]#011train-error:0.20689#011validation-error:0.20693\u001b[0m\n",
      "\u001b[34m[60]#011train-error:0.20688#011validation-error:0.20693\u001b[0m\n",
      "\u001b[34m[61]#011train-error:0.20680#011validation-error:0.20690\u001b[0m\n",
      "\u001b[34m[62]#011train-error:0.20677#011validation-error:0.20685\u001b[0m\n",
      "\u001b[34m[63]#011train-error:0.20673#011validation-error:0.20682\u001b[0m\n",
      "\u001b[34m[64]#011train-error:0.20674#011validation-error:0.20681\u001b[0m\n",
      "\u001b[34m[65]#011train-error:0.20669#011validation-error:0.20677\u001b[0m\n",
      "\u001b[34m[66]#011train-error:0.20663#011validation-error:0.20669\u001b[0m\n",
      "\u001b[34m[67]#011train-error:0.20643#011validation-error:0.20659\u001b[0m\n",
      "\u001b[34m[68]#011train-error:0.20636#011validation-error:0.20651\u001b[0m\n",
      "\u001b[34m[69]#011train-error:0.20634#011validation-error:0.20650\u001b[0m\n",
      "\u001b[34m[70]#011train-error:0.20627#011validation-error:0.20646\u001b[0m\n",
      "\u001b[34m[71]#011train-error:0.20622#011validation-error:0.20643\u001b[0m\n",
      "\u001b[34m[72]#011train-error:0.20616#011validation-error:0.20632\u001b[0m\n",
      "\u001b[34m[73]#011train-error:0.20611#011validation-error:0.20631\u001b[0m\n",
      "\u001b[34m[74]#011train-error:0.20602#011validation-error:0.20623\u001b[0m\n",
      "\u001b[34m[75]#011train-error:0.20599#011validation-error:0.20619\u001b[0m\n",
      "\u001b[34m[76]#011train-error:0.20594#011validation-error:0.20618\u001b[0m\n",
      "\u001b[34m[77]#011train-error:0.20593#011validation-error:0.20615\u001b[0m\n",
      "\u001b[34m[78]#011train-error:0.20586#011validation-error:0.20600\u001b[0m\n",
      "\u001b[34m[79]#011train-error:0.20572#011validation-error:0.20589\u001b[0m\n",
      "\u001b[34m[80]#011train-error:0.20564#011validation-error:0.20582\u001b[0m\n",
      "\u001b[34m[81]#011train-error:0.20559#011validation-error:0.20581\u001b[0m\n",
      "\u001b[34m[82]#011train-error:0.20554#011validation-error:0.20580\u001b[0m\n",
      "\u001b[34m[83]#011train-error:0.20545#011validation-error:0.20574\u001b[0m\n",
      "\u001b[34m[84]#011train-error:0.20540#011validation-error:0.20573\u001b[0m\n",
      "\u001b[34m[85]#011train-error:0.20536#011validation-error:0.20567\u001b[0m\n",
      "\u001b[34m[86]#011train-error:0.20532#011validation-error:0.20564\u001b[0m\n",
      "\u001b[34m[87]#011train-error:0.20527#011validation-error:0.20560\u001b[0m\n",
      "\u001b[34m[88]#011train-error:0.20524#011validation-error:0.20555\u001b[0m\n",
      "\u001b[34m[89]#011train-error:0.20521#011validation-error:0.20551\u001b[0m\n",
      "\u001b[34m[90]#011train-error:0.20517#011validation-error:0.20544\u001b[0m\n",
      "\u001b[34m[91]#011train-error:0.20511#011validation-error:0.20540\u001b[0m\n",
      "\u001b[34m[92]#011train-error:0.20499#011validation-error:0.20532\u001b[0m\n",
      "\u001b[34m[93]#011train-error:0.20492#011validation-error:0.20534\u001b[0m\n",
      "\u001b[34m[94]#011train-error:0.20478#011validation-error:0.20522\u001b[0m\n",
      "\u001b[34m[95]#011train-error:0.20466#011validation-error:0.20514\u001b[0m\n",
      "\u001b[34m[96]#011train-error:0.20459#011validation-error:0.20499\u001b[0m\n",
      "\u001b[34m[97]#011train-error:0.20458#011validation-error:0.20500\u001b[0m\n",
      "\u001b[34m[98]#011train-error:0.20455#011validation-error:0.20498\u001b[0m\n",
      "\u001b[34m[99]#011train-error:0.20445#011validation-error:0.20492\u001b[0m\n",
      "\u001b[34m[100]#011train-error:0.20440#011validation-error:0.20481\u001b[0m\n",
      "\u001b[34m[101]#011train-error:0.20430#011validation-error:0.20480\u001b[0m\n",
      "\u001b[34m[102]#011train-error:0.20429#011validation-error:0.20484\u001b[0m\n",
      "\u001b[34m[103]#011train-error:0.20428#011validation-error:0.20480\u001b[0m\n",
      "\u001b[34m[104]#011train-error:0.20423#011validation-error:0.20471\u001b[0m\n",
      "\u001b[34m[105]#011train-error:0.20425#011validation-error:0.20468\u001b[0m\n",
      "\u001b[34m[106]#011train-error:0.20421#011validation-error:0.20463\u001b[0m\n",
      "\u001b[34m[107]#011train-error:0.20421#011validation-error:0.20461\u001b[0m\n",
      "\u001b[34m[108]#011train-error:0.20410#011validation-error:0.20448\u001b[0m\n",
      "\u001b[34m[109]#011train-error:0.20402#011validation-error:0.20448\u001b[0m\n",
      "\u001b[34m[110]#011train-error:0.20396#011validation-error:0.20442\u001b[0m\n",
      "\u001b[34m[111]#011train-error:0.20395#011validation-error:0.20440\u001b[0m\n",
      "\u001b[34m[112]#011train-error:0.20393#011validation-error:0.20442\u001b[0m\n",
      "\u001b[34m[113]#011train-error:0.20388#011validation-error:0.20442\u001b[0m\n",
      "\u001b[34m[114]#011train-error:0.20381#011validation-error:0.20438\u001b[0m\n",
      "\u001b[34m[115]#011train-error:0.20379#011validation-error:0.20436\u001b[0m\n",
      "\u001b[34m[116]#011train-error:0.20372#011validation-error:0.20434\u001b[0m\n",
      "\u001b[34m[117]#011train-error:0.20366#011validation-error:0.20438\u001b[0m\n",
      "\u001b[34m[118]#011train-error:0.20363#011validation-error:0.20429\u001b[0m\n",
      "\u001b[34m[119]#011train-error:0.20359#011validation-error:0.20425\u001b[0m\n",
      "\u001b[34m[120]#011train-error:0.20358#011validation-error:0.20422\u001b[0m\n",
      "\u001b[34m[121]#011train-error:0.20353#011validation-error:0.20423\u001b[0m\n",
      "\u001b[34m[122]#011train-error:0.20351#011validation-error:0.20422\u001b[0m\n",
      "\u001b[34m[123]#011train-error:0.20344#011validation-error:0.20417\u001b[0m\n",
      "\u001b[34m[124]#011train-error:0.20344#011validation-error:0.20418\u001b[0m\n",
      "\u001b[34m[125]#011train-error:0.20339#011validation-error:0.20419\u001b[0m\n",
      "\u001b[34m[126]#011train-error:0.20337#011validation-error:0.20421\u001b[0m\n",
      "\u001b[34m[127]#011train-error:0.20325#011validation-error:0.20402\u001b[0m\n",
      "\u001b[34m[128]#011train-error:0.20319#011validation-error:0.20402\u001b[0m\n",
      "\u001b[34m[129]#011train-error:0.20311#011validation-error:0.20395\u001b[0m\n",
      "\u001b[34m[130]#011train-error:0.20309#011validation-error:0.20387\u001b[0m\n",
      "\u001b[34m[131]#011train-error:0.20304#011validation-error:0.20380\u001b[0m\n",
      "\u001b[34m[132]#011train-error:0.20295#011validation-error:0.20376\u001b[0m\n",
      "\u001b[34m[133]#011train-error:0.20293#011validation-error:0.20373\u001b[0m\n",
      "\u001b[34m[134]#011train-error:0.20289#011validation-error:0.20367\u001b[0m\n",
      "\u001b[34m[135]#011train-error:0.20284#011validation-error:0.20358\u001b[0m\n",
      "\u001b[34m[136]#011train-error:0.20277#011validation-error:0.20354\u001b[0m\n",
      "\u001b[34m[137]#011train-error:0.20272#011validation-error:0.20347\u001b[0m\n",
      "\u001b[34m[138]#011train-error:0.20268#011validation-error:0.20338\u001b[0m\n",
      "\u001b[34m[139]#011train-error:0.20265#011validation-error:0.20333\u001b[0m\n",
      "\u001b[34m[140]#011train-error:0.20259#011validation-error:0.20330\u001b[0m\n",
      "\u001b[34m[141]#011train-error:0.20257#011validation-error:0.20328\u001b[0m\n",
      "\u001b[34m[142]#011train-error:0.20251#011validation-error:0.20321\u001b[0m\n",
      "\u001b[34m[143]#011train-error:0.20247#011validation-error:0.20320\u001b[0m\n",
      "\u001b[34m[144]#011train-error:0.20244#011validation-error:0.20319\u001b[0m\n",
      "\u001b[34m[145]#011train-error:0.20241#011validation-error:0.20316\u001b[0m\n",
      "\u001b[34m[146]#011train-error:0.20239#011validation-error:0.20311\u001b[0m\n",
      "\u001b[34m[147]#011train-error:0.20233#011validation-error:0.20308\u001b[0m\n",
      "\u001b[34m[148]#011train-error:0.20231#011validation-error:0.20304\u001b[0m\n",
      "\u001b[34m[149]#011train-error:0.20224#011validation-error:0.20302\u001b[0m\n",
      "\u001b[34m[150]#011train-error:0.20220#011validation-error:0.20301\u001b[0m\n",
      "\u001b[34m[151]#011train-error:0.20219#011validation-error:0.20300\u001b[0m\n",
      "\u001b[34m[152]#011train-error:0.20210#011validation-error:0.20287\u001b[0m\n",
      "\u001b[34m[153]#011train-error:0.20208#011validation-error:0.20285\u001b[0m\n",
      "\u001b[34m[154]#011train-error:0.20201#011validation-error:0.20281\u001b[0m\n",
      "\u001b[34m[155]#011train-error:0.20197#011validation-error:0.20281\u001b[0m\n",
      "\u001b[34m[156]#011train-error:0.20190#011validation-error:0.20272\u001b[0m\n",
      "\u001b[34m[157]#011train-error:0.20186#011validation-error:0.20269\u001b[0m\n",
      "\u001b[34m[158]#011train-error:0.20178#011validation-error:0.20262\u001b[0m\n",
      "\u001b[34m[159]#011train-error:0.20173#011validation-error:0.20269\u001b[0m\n",
      "\u001b[34m[160]#011train-error:0.20170#011validation-error:0.20268\u001b[0m\n",
      "\u001b[34m[161]#011train-error:0.20165#011validation-error:0.20266\u001b[0m\n",
      "\u001b[34m[162]#011train-error:0.20162#011validation-error:0.20264\u001b[0m\n",
      "\u001b[34m[163]#011train-error:0.20154#011validation-error:0.20248\u001b[0m\n",
      "\u001b[34m[164]#011train-error:0.20154#011validation-error:0.20249\u001b[0m\n",
      "\u001b[34m[165]#011train-error:0.20157#011validation-error:0.20250\u001b[0m\n",
      "\u001b[34m[166]#011train-error:0.20150#011validation-error:0.20249\u001b[0m\n",
      "\u001b[34m[167]#011train-error:0.20147#011validation-error:0.20250\u001b[0m\n",
      "\u001b[34m[168]#011train-error:0.20143#011validation-error:0.20246\u001b[0m\n",
      "\u001b[34m[169]#011train-error:0.20140#011validation-error:0.20248\u001b[0m\n",
      "\u001b[34m[170]#011train-error:0.20136#011validation-error:0.20239\u001b[0m\n",
      "\u001b[34m[171]#011train-error:0.20131#011validation-error:0.20236\u001b[0m\n",
      "\u001b[34m[172]#011train-error:0.20126#011validation-error:0.20228\u001b[0m\n",
      "\u001b[34m[173]#011train-error:0.20121#011validation-error:0.20228\u001b[0m\n",
      "\u001b[34m[174]#011train-error:0.20120#011validation-error:0.20231\u001b[0m\n",
      "\u001b[34m[175]#011train-error:0.20112#011validation-error:0.20222\u001b[0m\n",
      "\u001b[34m[176]#011train-error:0.20112#011validation-error:0.20226\u001b[0m\n",
      "\u001b[34m[177]#011train-error:0.20108#011validation-error:0.20226\u001b[0m\n",
      "\u001b[34m[178]#011train-error:0.20107#011validation-error:0.20226\u001b[0m\n",
      "\u001b[34m[179]#011train-error:0.20103#011validation-error:0.20216\u001b[0m\n",
      "\u001b[34m[180]#011train-error:0.20100#011validation-error:0.20209\u001b[0m\n",
      "\u001b[34m[181]#011train-error:0.20094#011validation-error:0.20206\u001b[0m\n",
      "\u001b[34m[182]#011train-error:0.20087#011validation-error:0.20207\u001b[0m\n",
      "\u001b[34m[183]#011train-error:0.20082#011validation-error:0.20202\u001b[0m\n",
      "\u001b[34m[184]#011train-error:0.20077#011validation-error:0.20206\u001b[0m\n",
      "\u001b[34m[185]#011train-error:0.20075#011validation-error:0.20203\u001b[0m\n",
      "\u001b[34m[186]#011train-error:0.20073#011validation-error:0.20199\u001b[0m\n",
      "\u001b[34m[187]#011train-error:0.20068#011validation-error:0.20197\u001b[0m\n",
      "\u001b[34m[188]#011train-error:0.20066#011validation-error:0.20190\u001b[0m\n",
      "\u001b[34m[189]#011train-error:0.20059#011validation-error:0.20188\u001b[0m\n",
      "\u001b[34m[190]#011train-error:0.20055#011validation-error:0.20184\u001b[0m\n",
      "\u001b[34m[191]#011train-error:0.20049#011validation-error:0.20185\u001b[0m\n",
      "\u001b[34m[192]#011train-error:0.20040#011validation-error:0.20181\u001b[0m\n",
      "\u001b[34m[193]#011train-error:0.20035#011validation-error:0.20178\u001b[0m\n",
      "\u001b[34m[194]#011train-error:0.20030#011validation-error:0.20168\u001b[0m\n",
      "\u001b[34m[195]#011train-error:0.20025#011validation-error:0.20167\u001b[0m\n",
      "\u001b[34m[196]#011train-error:0.20016#011validation-error:0.20160\u001b[0m\n",
      "\u001b[34m[197]#011train-error:0.20018#011validation-error:0.20164\u001b[0m\n",
      "\u001b[34m[198]#011train-error:0.20012#011validation-error:0.20162\u001b[0m\n",
      "\u001b[34m[199]#011train-error:0.20010#011validation-error:0.20158\u001b[0m\n",
      "\n",
      "2022-11-05 00:27:00 Uploading - Uploading generated training model\n",
      "2022-11-05 00:27:39 Completed - Training job completed\n",
      "Training seconds: 127\n",
      "Billable seconds: 127\n"
     ]
    }
   ],
   "source": [
    "xgb_estimator.fit(xgb_data)"
   ]
  },
  {
   "cell_type": "markdown",
   "metadata": {},
   "source": [
    "### Host the model on another instance"
   ]
  },
  {
   "cell_type": "code",
   "execution_count": 7,
   "metadata": {},
   "outputs": [
    {
     "name": "stdout",
     "output_type": "stream",
     "text": [
      "xgb-demo-05-00-28-00\n"
     ]
    }
   ],
   "source": [
    "timestamp = strftime('%d-%H-%M-%S', gmtime())\n",
    "\n",
    "endpoint_name = 'xgb-demo-'+timestamp\n",
    "print(endpoint_name)"
   ]
  },
  {
   "cell_type": "code",
   "execution_count": 8,
   "metadata": {},
   "outputs": [
    {
     "name": "stdout",
     "output_type": "stream",
     "text": [
      "-----!"
     ]
    }
   ],
   "source": [
    "xgb_predictor = xgb_estimator.deploy(endpoint_name=endpoint_name, \n",
    "                        initial_instance_count=1, \n",
    "                        instance_type='ml.c5.9xlarge')"
   ]
  },
  {
   "cell_type": "code",
   "execution_count": 9,
   "metadata": {},
   "outputs": [],
   "source": [
    "xgb_predictor.delete_endpoint()"
   ]
  },
  {
   "cell_type": "markdown",
   "metadata": {},
   "source": [
    "### Perform batch transform to evaluate the model on testing data"
   ]
  },
  {
   "cell_type": "code",
   "execution_count": 10,
   "metadata": {},
   "outputs": [
    {
     "data": {
      "text/html": [
       "<div>\n",
       "<style scoped>\n",
       "    .dataframe tbody tr th:only-of-type {\n",
       "        vertical-align: middle;\n",
       "    }\n",
       "\n",
       "    .dataframe tbody tr th {\n",
       "        vertical-align: top;\n",
       "    }\n",
       "\n",
       "    .dataframe thead th {\n",
       "        text-align: right;\n",
       "    }\n",
       "</style>\n",
       "<table border=\"1\" class=\"dataframe\">\n",
       "  <thead>\n",
       "    <tr style=\"text-align: right;\">\n",
       "      <th></th>\n",
       "      <th>1</th>\n",
       "      <th>2</th>\n",
       "      <th>3</th>\n",
       "      <th>4</th>\n",
       "      <th>5</th>\n",
       "      <th>6</th>\n",
       "      <th>7</th>\n",
       "      <th>8</th>\n",
       "      <th>9</th>\n",
       "      <th>10</th>\n",
       "      <th>...</th>\n",
       "      <th>84</th>\n",
       "      <th>85</th>\n",
       "      <th>86</th>\n",
       "      <th>87</th>\n",
       "      <th>88</th>\n",
       "      <th>89</th>\n",
       "      <th>90</th>\n",
       "      <th>91</th>\n",
       "      <th>92</th>\n",
       "      <th>93</th>\n",
       "    </tr>\n",
       "  </thead>\n",
       "  <tbody>\n",
       "    <tr>\n",
       "      <th>0</th>\n",
       "      <td>1464.0</td>\n",
       "      <td>0</td>\n",
       "      <td>0</td>\n",
       "      <td>1</td>\n",
       "      <td>0</td>\n",
       "      <td>0</td>\n",
       "      <td>0</td>\n",
       "      <td>0</td>\n",
       "      <td>0</td>\n",
       "      <td>0</td>\n",
       "      <td>...</td>\n",
       "      <td>0</td>\n",
       "      <td>0</td>\n",
       "      <td>0</td>\n",
       "      <td>0</td>\n",
       "      <td>0</td>\n",
       "      <td>0</td>\n",
       "      <td>0</td>\n",
       "      <td>0</td>\n",
       "      <td>0</td>\n",
       "      <td>0</td>\n",
       "    </tr>\n",
       "    <tr>\n",
       "      <th>1</th>\n",
       "      <td>1464.0</td>\n",
       "      <td>0</td>\n",
       "      <td>0</td>\n",
       "      <td>1</td>\n",
       "      <td>0</td>\n",
       "      <td>0</td>\n",
       "      <td>0</td>\n",
       "      <td>0</td>\n",
       "      <td>0</td>\n",
       "      <td>0</td>\n",
       "      <td>...</td>\n",
       "      <td>0</td>\n",
       "      <td>0</td>\n",
       "      <td>0</td>\n",
       "      <td>0</td>\n",
       "      <td>0</td>\n",
       "      <td>0</td>\n",
       "      <td>0</td>\n",
       "      <td>0</td>\n",
       "      <td>0</td>\n",
       "      <td>0</td>\n",
       "    </tr>\n",
       "    <tr>\n",
       "      <th>2</th>\n",
       "      <td>1464.0</td>\n",
       "      <td>0</td>\n",
       "      <td>0</td>\n",
       "      <td>1</td>\n",
       "      <td>0</td>\n",
       "      <td>0</td>\n",
       "      <td>0</td>\n",
       "      <td>0</td>\n",
       "      <td>0</td>\n",
       "      <td>0</td>\n",
       "      <td>...</td>\n",
       "      <td>0</td>\n",
       "      <td>0</td>\n",
       "      <td>0</td>\n",
       "      <td>0</td>\n",
       "      <td>0</td>\n",
       "      <td>0</td>\n",
       "      <td>0</td>\n",
       "      <td>0</td>\n",
       "      <td>0</td>\n",
       "      <td>0</td>\n",
       "    </tr>\n",
       "    <tr>\n",
       "      <th>3</th>\n",
       "      <td>1464.0</td>\n",
       "      <td>0</td>\n",
       "      <td>0</td>\n",
       "      <td>1</td>\n",
       "      <td>0</td>\n",
       "      <td>0</td>\n",
       "      <td>0</td>\n",
       "      <td>0</td>\n",
       "      <td>0</td>\n",
       "      <td>0</td>\n",
       "      <td>...</td>\n",
       "      <td>0</td>\n",
       "      <td>0</td>\n",
       "      <td>0</td>\n",
       "      <td>0</td>\n",
       "      <td>0</td>\n",
       "      <td>0</td>\n",
       "      <td>0</td>\n",
       "      <td>0</td>\n",
       "      <td>0</td>\n",
       "      <td>0</td>\n",
       "    </tr>\n",
       "    <tr>\n",
       "      <th>4</th>\n",
       "      <td>1464.0</td>\n",
       "      <td>0</td>\n",
       "      <td>0</td>\n",
       "      <td>1</td>\n",
       "      <td>0</td>\n",
       "      <td>0</td>\n",
       "      <td>0</td>\n",
       "      <td>0</td>\n",
       "      <td>0</td>\n",
       "      <td>0</td>\n",
       "      <td>...</td>\n",
       "      <td>0</td>\n",
       "      <td>0</td>\n",
       "      <td>0</td>\n",
       "      <td>0</td>\n",
       "      <td>0</td>\n",
       "      <td>0</td>\n",
       "      <td>0</td>\n",
       "      <td>0</td>\n",
       "      <td>0</td>\n",
       "      <td>0</td>\n",
       "    </tr>\n",
       "  </tbody>\n",
       "</table>\n",
       "<p>5 rows × 93 columns</p>\n",
       "</div>"
      ],
      "text/plain": [
       "       1   2   3   4   5   6   7   8   9   10  ...  84  85  86  87  88  89  \\\n",
       "0  1464.0   0   0   1   0   0   0   0   0   0  ...   0   0   0   0   0   0   \n",
       "1  1464.0   0   0   1   0   0   0   0   0   0  ...   0   0   0   0   0   0   \n",
       "2  1464.0   0   0   1   0   0   0   0   0   0  ...   0   0   0   0   0   0   \n",
       "3  1464.0   0   0   1   0   0   0   0   0   0  ...   0   0   0   0   0   0   \n",
       "4  1464.0   0   0   1   0   0   0   0   0   0  ...   0   0   0   0   0   0   \n",
       "\n",
       "   90  91  92  93  \n",
       "0   0   0   0   0  \n",
       "1   0   0   0   0  \n",
       "2   0   0   0   0  \n",
       "3   0   0   0   0  \n",
       "4   0   0   0   0  \n",
       "\n",
       "[5 rows x 93 columns]"
      ]
     },
     "execution_count": 10,
     "metadata": {},
     "output_type": "execute_result"
    }
   ],
   "source": [
    "testing_v1 = pd.read_csv(\"testing_v1.csv\", header=None)\n",
    "batch_X = testing_v1.iloc[:,1:]\n",
    "batch_X.head()"
   ]
  },
  {
   "cell_type": "code",
   "execution_count": 13,
   "metadata": {},
   "outputs": [],
   "source": [
    "s3_resource = boto3.Session().resource('s3')\n",
    "def upload_s3_csv(filename, folder, dataframe):\n",
    "    csv_buffer = io.StringIO()\n",
    "    dataframe.to_csv(csv_buffer, header=False, index=False )\n",
    "    s3_resource.Bucket(bucket).Object(os.path.join(prefix, folder, filename)).put(Body=csv_buffer.getvalue())"
   ]
  },
  {
   "cell_type": "code",
   "execution_count": 15,
   "metadata": {},
   "outputs": [],
   "source": [
    "batch_X_file='batch-in.csv'\n",
    "upload_s3_csv(batch_X_file, 'batch-in', batch_X)"
   ]
  },
  {
   "cell_type": "code",
   "execution_count": 16,
   "metadata": {},
   "outputs": [
    {
     "name": "stdout",
     "output_type": "stream",
     "text": [
      "............................\u001b[34m[2022-11-05:00:40:15:INFO] No GPUs detected (normal if no gpus installed)\u001b[0m\n",
      "\u001b[34m[2022-11-05:00:40:15:INFO] No GPUs detected (normal if no gpus installed)\u001b[0m\n",
      "\u001b[34m[2022-11-05:00:40:15:INFO] nginx config: \u001b[0m\n",
      "\u001b[34mworker_processes auto;\u001b[0m\n",
      "\u001b[34mdaemon off;\u001b[0m\n",
      "\u001b[34mpid /tmp/nginx.pid;\u001b[0m\n",
      "\u001b[34merror_log  /dev/stderr;\u001b[0m\n",
      "\u001b[34mworker_rlimit_nofile 4096;\u001b[0m\n",
      "\u001b[34mevents {\n",
      "  worker_connections 2048;\u001b[0m\n",
      "\u001b[34m}\u001b[0m\n",
      "\u001b[34mhttp {\n",
      "  include /etc/nginx/mime.types;\n",
      "  default_type application/octet-stream;\n",
      "  access_log /dev/stdout combined;\n",
      "  upstream gunicorn {\n",
      "    server unix:/tmp/gunicorn.sock;\n",
      "  }\n",
      "  server {\n",
      "    listen 8080 deferred;\n",
      "    client_max_body_size 0;\n",
      "    keepalive_timeout 3;\n",
      "    location ~ ^/(ping|invocations|execution-parameters) {\n",
      "      proxy_set_header X-Forwarded-For $proxy_add_x_forwarded_for;\n",
      "      proxy_set_header Host $http_host;\n",
      "      proxy_redirect off;\n",
      "      proxy_read_timeout 60s;\n",
      "      proxy_pass http://gunicorn;\n",
      "    }\n",
      "    location / {\n",
      "      return 404 \"{}\";\n",
      "    }\n",
      "  }\u001b[0m\n",
      "\u001b[34m}\u001b[0m\n",
      "\u001b[34m[2022-11-05 00:40:15 +0000] [82] [INFO] Starting gunicorn 19.10.0\u001b[0m\n",
      "\u001b[34m[2022-11-05 00:40:15 +0000] [82] [INFO] Listening at: unix:/tmp/gunicorn.sock (82)\u001b[0m\n",
      "\u001b[34m[2022-11-05 00:40:15 +0000] [82] [INFO] Using worker: gevent\u001b[0m\n",
      "\u001b[34m[2022-11-05 00:40:15 +0000] [121] [INFO] Booting worker with pid: 121\u001b[0m\n",
      "\u001b[34m[2022-11-05 00:40:15 +0000] [122] [INFO] Booting worker with pid: 122\u001b[0m\n",
      "\u001b[34m[2022-11-05 00:40:15 +0000] [123] [INFO] Booting worker with pid: 123\u001b[0m\n",
      "\u001b[34m[2022-11-05 00:40:15 +0000] [194] [INFO] Booting worker with pid: 194\u001b[0m\n",
      "\u001b[34m[2022-11-05 00:40:15 +0000] [195] [INFO] Booting worker with pid: 195\u001b[0m\n",
      "\u001b[34m[2022-11-05 00:40:15 +0000] [231] [INFO] Booting worker with pid: 231\u001b[0m\n",
      "\u001b[34m[2022-11-05 00:40:15 +0000] [232] [INFO] Booting worker with pid: 232\u001b[0m\n",
      "\u001b[34m[2022-11-05 00:40:15 +0000] [303] [INFO] Booting worker with pid: 303\u001b[0m\n",
      "\u001b[34m[2022-11-05 00:40:15 +0000] [304] [INFO] Booting worker with pid: 304\u001b[0m\n",
      "\u001b[34m[2022-11-05 00:40:15 +0000] [305] [INFO] Booting worker with pid: 305\u001b[0m\n",
      "\u001b[34m[2022-11-05 00:40:15 +0000] [378] [INFO] Booting worker with pid: 378\u001b[0m\n",
      "\u001b[34m[2022-11-05 00:40:16 +0000] [414] [INFO] Booting worker with pid: 414\u001b[0m\n",
      "\u001b[34m[2022-11-05 00:40:16 +0000] [450] [INFO] Booting worker with pid: 450\u001b[0m\n",
      "\u001b[34m[2022-11-05 00:40:16 +0000] [452] [INFO] Booting worker with pid: 452\u001b[0m\n",
      "\u001b[34m[2022-11-05 00:40:16 +0000] [453] [INFO] Booting worker with pid: 453\u001b[0m\n",
      "\u001b[34m[2022-11-05 00:40:16 +0000] [454] [INFO] Booting worker with pid: 454\u001b[0m\n",
      "\u001b[34m[2022-11-05 00:40:16 +0000] [491] [INFO] Booting worker with pid: 491\u001b[0m\n",
      "\u001b[34m[2022-11-05 00:40:16 +0000] [494] [INFO] Booting worker with pid: 494\u001b[0m\n",
      "\u001b[34m[2022-11-05 00:40:16 +0000] [566] [INFO] Booting worker with pid: 566\u001b[0m\n",
      "\u001b[34m[2022-11-05 00:40:16 +0000] [567] [INFO] Booting worker with pid: 567\u001b[0m\n",
      "\u001b[34m[2022-11-05 00:40:16 +0000] [568] [INFO] Booting worker with pid: 568\u001b[0m\n",
      "\u001b[34m[2022-11-05 00:40:16 +0000] [569] [INFO] Booting worker with pid: 569\u001b[0m\n",
      "\u001b[34m[2022-11-05 00:40:16 +0000] [711] [INFO] Booting worker with pid: 711\u001b[0m\n",
      "\u001b[34m[2022-11-05 00:40:16 +0000] [784] [INFO] Booting worker with pid: 784\u001b[0m\n",
      "\u001b[34m[2022-11-05 00:40:16 +0000] [786] [INFO] Booting worker with pid: 786\u001b[0m\n",
      "\u001b[34m[2022-11-05 00:40:16 +0000] [788] [INFO] Booting worker with pid: 788\u001b[0m\n",
      "\u001b[34m[2022-11-05 00:40:16 +0000] [825] [INFO] Booting worker with pid: 825\u001b[0m\n",
      "\u001b[34m[2022-11-05 00:40:16 +0000] [824] [INFO] Booting worker with pid: 824\u001b[0m\n",
      "\u001b[34m[2022-11-05 00:40:16 +0000] [935] [INFO] Booting worker with pid: 935\u001b[0m\n",
      "\u001b[34m[2022-11-05 00:40:16 +0000] [971] [INFO] Booting worker with pid: 971\u001b[0m\n",
      "\u001b[34m[2022-11-05 00:40:16 +0000] [1009] [INFO] Booting worker with pid: 1009\u001b[0m\n",
      "\u001b[34m[2022-11-05 00:40:16 +0000] [1046] [INFO] Booting worker with pid: 1046\u001b[0m\n",
      "\u001b[34m[2022-11-05 00:40:16 +0000] [1118] [INFO] Booting worker with pid: 1118\u001b[0m\n",
      "\u001b[34m[2022-11-05 00:40:17 +0000] [1196] [INFO] Booting worker with pid: 1196\u001b[0m\n",
      "\u001b[34m[2022-11-05 00:40:17 +0000] [1267] [INFO] Booting worker with pid: 1267\u001b[0m\n",
      "\u001b[34m[2022-11-05 00:40:17 +0000] [1376] [INFO] Booting worker with pid: 1376\u001b[0m\n",
      "\u001b[34m[2022-11-05:00:40:21:INFO] No GPUs detected (normal if no gpus installed)\u001b[0m\n",
      "\u001b[34m169.254.255.130 - - [05/Nov/2022:00:40:21 +0000] \"GET /ping HTTP/1.1\" 200 0 \"-\" \"Go-http-client/1.1\"\u001b[0m\n",
      "\u001b[34m169.254.255.130 - - [05/Nov/2022:00:40:21 +0000] \"GET /execution-parameters HTTP/1.1\" 200 85 \"-\" \"Go-http-client/1.1\"\u001b[0m\n",
      "\u001b[34m[2022-11-05:00:40:22:INFO] No GPUs detected (normal if no gpus installed)\u001b[0m\n",
      "\u001b[34m[2022-11-05:00:40:22:INFO] No GPUs detected (normal if no gpus installed)\u001b[0m\n",
      "\u001b[34m[2022-11-05:00:40:22:INFO] Determined delimiter of CSV input is ','\u001b[0m\n",
      "\u001b[34m[2022-11-05:00:40:22:INFO] No GPUs detected (normal if no gpus installed)\u001b[0m\n",
      "\u001b[34m[2022-11-05:00:40:22:INFO] No GPUs detected (normal if no gpus installed)\u001b[0m\n",
      "\u001b[34m[2022-11-05:00:40:22:INFO] Determined delimiter of CSV input is ','\u001b[0m\n",
      "\u001b[34m[2022-11-05:00:40:22:INFO] Determined delimiter of CSV input is ','\u001b[0m\n",
      "\u001b[34m[2022-11-05:00:40:22:INFO] Determined delimiter of CSV input is ','\u001b[0m\n",
      "\u001b[34m[2022-11-05:00:40:22:INFO] Determined delimiter of CSV input is ','\u001b[0m\n",
      "\u001b[34m169.254.255.130 - - [05/Nov/2022:00:40:22 +0000] \"POST /invocations HTTP/1.1\" 200 275757 \"-\" \"Go-http-client/1.1\"\u001b[0m\n",
      "\u001b[34m169.254.255.130 - - [05/Nov/2022:00:40:23 +0000] \"POST /invocations HTTP/1.1\" 200 650033 \"-\" \"Go-http-client/1.1\"\u001b[0m\n",
      "\u001b[34m169.254.255.130 - - [05/Nov/2022:00:40:23 +0000] \"POST /invocations HTTP/1.1\" 200 649062 \"-\" \"Go-http-client/1.1\"\u001b[0m\n",
      "\u001b[34m[2022-11-05:00:40:23:INFO] Determined delimiter of CSV input is ','\u001b[0m\n",
      "\u001b[34m[2022-11-05:00:40:23:INFO] Determined delimiter of CSV input is ','\u001b[0m\n",
      "\u001b[34m169.254.255.130 - - [05/Nov/2022:00:40:23 +0000] \"POST /invocations HTTP/1.1\" 200 650947 \"-\" \"Go-http-client/1.1\"\u001b[0m\n",
      "\u001b[34m169.254.255.130 - - [05/Nov/2022:00:40:25 +0000] \"POST /invocations HTTP/1.1\" 200 647803 \"-\" \"Go-http-client/1.1\"\u001b[0m\n",
      "\u001b[34m169.254.255.130 - - [05/Nov/2022:00:40:25 +0000] \"POST /invocations HTTP/1.1\" 200 647573 \"-\" \"Go-http-client/1.1\"\u001b[0m\n",
      "\u001b[34m169.254.255.130 - - [05/Nov/2022:00:40:25 +0000] \"POST /invocations HTTP/1.1\" 200 648879 \"-\" \"Go-http-client/1.1\"\u001b[0m\n",
      "\u001b[34m[2022-11-05:00:40:25:INFO] Determined delimiter of CSV input is ','\u001b[0m\n",
      "\u001b[34m169.254.255.130 - - [05/Nov/2022:00:40:26 +0000] \"POST /invocations HTTP/1.1\" 200 649881 \"-\" \"Go-http-client/1.1\"\u001b[0m\n",
      "\u001b[32m2022-11-05T00:40:21.354:[sagemaker logs]: MaxConcurrentTransforms=16, MaxPayloadInMB=6, BatchStrategy=MULTI_RECORD\u001b[0m\n",
      "\n",
      "\u001b[34m[2022-11-05:00:40:15:INFO] No GPUs detected (normal if no gpus installed)\u001b[0m\n",
      "\u001b[34m[2022-11-05:00:40:15:INFO] No GPUs detected (normal if no gpus installed)\u001b[0m\n",
      "\u001b[34m[2022-11-05:00:40:15:INFO] nginx config: \u001b[0m\n",
      "\u001b[34mworker_processes auto;\u001b[0m\n",
      "\u001b[34mdaemon off;\u001b[0m\n",
      "\u001b[34mpid /tmp/nginx.pid;\u001b[0m\n",
      "\u001b[34merror_log  /dev/stderr;\u001b[0m\n",
      "\u001b[34mworker_rlimit_nofile 4096;\u001b[0m\n",
      "\u001b[34mevents {\n",
      "  worker_connections 2048;\u001b[0m\n",
      "\u001b[34m}\u001b[0m\n",
      "\u001b[34mhttp {\n",
      "  include /etc/nginx/mime.types;\n",
      "  default_type application/octet-stream;\n",
      "  access_log /dev/stdout combined;\n",
      "  upstream gunicorn {\n",
      "    server unix:/tmp/gunicorn.sock;\n",
      "  }\n",
      "  server {\n",
      "    listen 8080 deferred;\n",
      "    client_max_body_size 0;\n",
      "    keepalive_timeout 3;\n",
      "    location ~ ^/(ping|invocations|execution-parameters) {\n",
      "      proxy_set_header X-Forwarded-For $proxy_add_x_forwarded_for;\n",
      "      proxy_set_header Host $http_host;\n",
      "      proxy_redirect off;\n",
      "      proxy_read_timeout 60s;\n",
      "      proxy_pass http://gunicorn;\n",
      "    }\n",
      "    location / {\n",
      "      return 404 \"{}\";\n",
      "    }\n",
      "  }\u001b[0m\n",
      "\u001b[35m[2022-11-05:00:40:15:INFO] No GPUs detected (normal if no gpus installed)\u001b[0m\n",
      "\u001b[35m[2022-11-05:00:40:15:INFO] No GPUs detected (normal if no gpus installed)\u001b[0m\n",
      "\u001b[35m[2022-11-05:00:40:15:INFO] nginx config: \u001b[0m\n",
      "\u001b[35mworker_processes auto;\u001b[0m\n",
      "\u001b[35mdaemon off;\u001b[0m\n",
      "\u001b[35mpid /tmp/nginx.pid;\u001b[0m\n",
      "\u001b[35merror_log  /dev/stderr;\u001b[0m\n",
      "\u001b[35mworker_rlimit_nofile 4096;\u001b[0m\n",
      "\u001b[35mevents {\n",
      "  worker_connections 2048;\u001b[0m\n",
      "\u001b[35m}\u001b[0m\n",
      "\u001b[35mhttp {\n",
      "  include /etc/nginx/mime.types;\n",
      "  default_type application/octet-stream;\n",
      "  access_log /dev/stdout combined;\n",
      "  upstream gunicorn {\n",
      "    server unix:/tmp/gunicorn.sock;\n",
      "  }\n",
      "  server {\n",
      "    listen 8080 deferred;\n",
      "    client_max_body_size 0;\n",
      "    keepalive_timeout 3;\n",
      "    location ~ ^/(ping|invocations|execution-parameters) {\n",
      "      proxy_set_header X-Forwarded-For $proxy_add_x_forwarded_for;\n",
      "      proxy_set_header Host $http_host;\n",
      "      proxy_redirect off;\n",
      "      proxy_read_timeout 60s;\n",
      "      proxy_pass http://gunicorn;\n",
      "    }\n",
      "    location / {\n",
      "      return 404 \"{}\";\n",
      "    }\n",
      "  }\u001b[0m\n",
      "\u001b[34m}\u001b[0m\n",
      "\u001b[34m[2022-11-05 00:40:15 +0000] [82] [INFO] Starting gunicorn 19.10.0\u001b[0m\n",
      "\u001b[34m[2022-11-05 00:40:15 +0000] [82] [INFO] Listening at: unix:/tmp/gunicorn.sock (82)\u001b[0m\n",
      "\u001b[34m[2022-11-05 00:40:15 +0000] [82] [INFO] Using worker: gevent\u001b[0m\n",
      "\u001b[34m[2022-11-05 00:40:15 +0000] [121] [INFO] Booting worker with pid: 121\u001b[0m\n",
      "\u001b[34m[2022-11-05 00:40:15 +0000] [122] [INFO] Booting worker with pid: 122\u001b[0m\n",
      "\u001b[34m[2022-11-05 00:40:15 +0000] [123] [INFO] Booting worker with pid: 123\u001b[0m\n",
      "\u001b[34m[2022-11-05 00:40:15 +0000] [194] [INFO] Booting worker with pid: 194\u001b[0m\n",
      "\u001b[34m[2022-11-05 00:40:15 +0000] [195] [INFO] Booting worker with pid: 195\u001b[0m\n",
      "\u001b[34m[2022-11-05 00:40:15 +0000] [231] [INFO] Booting worker with pid: 231\u001b[0m\n",
      "\u001b[34m[2022-11-05 00:40:15 +0000] [232] [INFO] Booting worker with pid: 232\u001b[0m\n",
      "\u001b[34m[2022-11-05 00:40:15 +0000] [303] [INFO] Booting worker with pid: 303\u001b[0m\n",
      "\u001b[34m[2022-11-05 00:40:15 +0000] [304] [INFO] Booting worker with pid: 304\u001b[0m\n",
      "\u001b[34m[2022-11-05 00:40:15 +0000] [305] [INFO] Booting worker with pid: 305\u001b[0m\n",
      "\u001b[34m[2022-11-05 00:40:15 +0000] [378] [INFO] Booting worker with pid: 378\u001b[0m\n",
      "\u001b[34m[2022-11-05 00:40:16 +0000] [414] [INFO] Booting worker with pid: 414\u001b[0m\n",
      "\u001b[34m[2022-11-05 00:40:16 +0000] [450] [INFO] Booting worker with pid: 450\u001b[0m\n",
      "\u001b[34m[2022-11-05 00:40:16 +0000] [452] [INFO] Booting worker with pid: 452\u001b[0m\n",
      "\u001b[34m[2022-11-05 00:40:16 +0000] [453] [INFO] Booting worker with pid: 453\u001b[0m\n",
      "\u001b[34m[2022-11-05 00:40:16 +0000] [454] [INFO] Booting worker with pid: 454\u001b[0m\n",
      "\u001b[34m[2022-11-05 00:40:16 +0000] [491] [INFO] Booting worker with pid: 491\u001b[0m\n",
      "\u001b[34m[2022-11-05 00:40:16 +0000] [494] [INFO] Booting worker with pid: 494\u001b[0m\n",
      "\u001b[34m[2022-11-05 00:40:16 +0000] [566] [INFO] Booting worker with pid: 566\u001b[0m\n",
      "\u001b[34m[2022-11-05 00:40:16 +0000] [567] [INFO] Booting worker with pid: 567\u001b[0m\n",
      "\u001b[34m[2022-11-05 00:40:16 +0000] [568] [INFO] Booting worker with pid: 568\u001b[0m\n",
      "\u001b[34m[2022-11-05 00:40:16 +0000] [569] [INFO] Booting worker with pid: 569\u001b[0m\n",
      "\u001b[34m[2022-11-05 00:40:16 +0000] [711] [INFO] Booting worker with pid: 711\u001b[0m\n",
      "\u001b[34m[2022-11-05 00:40:16 +0000] [784] [INFO] Booting worker with pid: 784\u001b[0m\n",
      "\u001b[34m[2022-11-05 00:40:16 +0000] [786] [INFO] Booting worker with pid: 786\u001b[0m\n",
      "\u001b[34m[2022-11-05 00:40:16 +0000] [788] [INFO] Booting worker with pid: 788\u001b[0m\n",
      "\u001b[34m[2022-11-05 00:40:16 +0000] [825] [INFO] Booting worker with pid: 825\u001b[0m\n",
      "\u001b[34m[2022-11-05 00:40:16 +0000] [824] [INFO] Booting worker with pid: 824\u001b[0m\n",
      "\u001b[34m[2022-11-05 00:40:16 +0000] [935] [INFO] Booting worker with pid: 935\u001b[0m\n",
      "\u001b[34m[2022-11-05 00:40:16 +0000] [971] [INFO] Booting worker with pid: 971\u001b[0m\n",
      "\u001b[34m[2022-11-05 00:40:16 +0000] [1009] [INFO] Booting worker with pid: 1009\u001b[0m\n",
      "\u001b[34m[2022-11-05 00:40:16 +0000] [1046] [INFO] Booting worker with pid: 1046\u001b[0m\n",
      "\u001b[34m[2022-11-05 00:40:16 +0000] [1118] [INFO] Booting worker with pid: 1118\u001b[0m\n",
      "\u001b[34m[2022-11-05 00:40:17 +0000] [1196] [INFO] Booting worker with pid: 1196\u001b[0m\n",
      "\u001b[34m[2022-11-05 00:40:17 +0000] [1267] [INFO] Booting worker with pid: 1267\u001b[0m\n",
      "\u001b[34m[2022-11-05 00:40:17 +0000] [1376] [INFO] Booting worker with pid: 1376\u001b[0m\n",
      "\u001b[35m}\u001b[0m\n",
      "\u001b[35m[2022-11-05 00:40:15 +0000] [82] [INFO] Starting gunicorn 19.10.0\u001b[0m\n",
      "\u001b[35m[2022-11-05 00:40:15 +0000] [82] [INFO] Listening at: unix:/tmp/gunicorn.sock (82)\u001b[0m\n",
      "\u001b[35m[2022-11-05 00:40:15 +0000] [82] [INFO] Using worker: gevent\u001b[0m\n",
      "\u001b[35m[2022-11-05 00:40:15 +0000] [121] [INFO] Booting worker with pid: 121\u001b[0m\n",
      "\u001b[35m[2022-11-05 00:40:15 +0000] [122] [INFO] Booting worker with pid: 122\u001b[0m\n",
      "\u001b[35m[2022-11-05 00:40:15 +0000] [123] [INFO] Booting worker with pid: 123\u001b[0m\n",
      "\u001b[35m[2022-11-05 00:40:15 +0000] [194] [INFO] Booting worker with pid: 194\u001b[0m\n",
      "\u001b[35m[2022-11-05 00:40:15 +0000] [195] [INFO] Booting worker with pid: 195\u001b[0m\n",
      "\u001b[35m[2022-11-05 00:40:15 +0000] [231] [INFO] Booting worker with pid: 231\u001b[0m\n",
      "\u001b[35m[2022-11-05 00:40:15 +0000] [232] [INFO] Booting worker with pid: 232\u001b[0m\n",
      "\u001b[35m[2022-11-05 00:40:15 +0000] [303] [INFO] Booting worker with pid: 303\u001b[0m\n",
      "\u001b[35m[2022-11-05 00:40:15 +0000] [304] [INFO] Booting worker with pid: 304\u001b[0m\n",
      "\u001b[35m[2022-11-05 00:40:15 +0000] [305] [INFO] Booting worker with pid: 305\u001b[0m\n",
      "\u001b[35m[2022-11-05 00:40:15 +0000] [378] [INFO] Booting worker with pid: 378\u001b[0m\n",
      "\u001b[35m[2022-11-05 00:40:16 +0000] [414] [INFO] Booting worker with pid: 414\u001b[0m\n",
      "\u001b[35m[2022-11-05 00:40:16 +0000] [450] [INFO] Booting worker with pid: 450\u001b[0m\n",
      "\u001b[35m[2022-11-05 00:40:16 +0000] [452] [INFO] Booting worker with pid: 452\u001b[0m\n",
      "\u001b[35m[2022-11-05 00:40:16 +0000] [453] [INFO] Booting worker with pid: 453\u001b[0m\n",
      "\u001b[35m[2022-11-05 00:40:16 +0000] [454] [INFO] Booting worker with pid: 454\u001b[0m\n",
      "\u001b[35m[2022-11-05 00:40:16 +0000] [491] [INFO] Booting worker with pid: 491\u001b[0m\n",
      "\u001b[35m[2022-11-05 00:40:16 +0000] [494] [INFO] Booting worker with pid: 494\u001b[0m\n",
      "\u001b[35m[2022-11-05 00:40:16 +0000] [566] [INFO] Booting worker with pid: 566\u001b[0m\n",
      "\u001b[35m[2022-11-05 00:40:16 +0000] [567] [INFO] Booting worker with pid: 567\u001b[0m\n",
      "\u001b[35m[2022-11-05 00:40:16 +0000] [568] [INFO] Booting worker with pid: 568\u001b[0m\n",
      "\u001b[35m[2022-11-05 00:40:16 +0000] [569] [INFO] Booting worker with pid: 569\u001b[0m\n",
      "\u001b[35m[2022-11-05 00:40:16 +0000] [711] [INFO] Booting worker with pid: 711\u001b[0m\n",
      "\u001b[35m[2022-11-05 00:40:16 +0000] [784] [INFO] Booting worker with pid: 784\u001b[0m\n",
      "\u001b[35m[2022-11-05 00:40:16 +0000] [786] [INFO] Booting worker with pid: 786\u001b[0m\n",
      "\u001b[35m[2022-11-05 00:40:16 +0000] [788] [INFO] Booting worker with pid: 788\u001b[0m\n",
      "\u001b[35m[2022-11-05 00:40:16 +0000] [825] [INFO] Booting worker with pid: 825\u001b[0m\n",
      "\u001b[35m[2022-11-05 00:40:16 +0000] [824] [INFO] Booting worker with pid: 824\u001b[0m\n",
      "\u001b[35m[2022-11-05 00:40:16 +0000] [935] [INFO] Booting worker with pid: 935\u001b[0m\n",
      "\u001b[35m[2022-11-05 00:40:16 +0000] [971] [INFO] Booting worker with pid: 971\u001b[0m\n",
      "\u001b[35m[2022-11-05 00:40:16 +0000] [1009] [INFO] Booting worker with pid: 1009\u001b[0m\n",
      "\u001b[35m[2022-11-05 00:40:16 +0000] [1046] [INFO] Booting worker with pid: 1046\u001b[0m\n",
      "\u001b[35m[2022-11-05 00:40:16 +0000] [1118] [INFO] Booting worker with pid: 1118\u001b[0m\n",
      "\u001b[35m[2022-11-05 00:40:17 +0000] [1196] [INFO] Booting worker with pid: 1196\u001b[0m\n",
      "\u001b[35m[2022-11-05 00:40:17 +0000] [1267] [INFO] Booting worker with pid: 1267\u001b[0m\n",
      "\u001b[35m[2022-11-05 00:40:17 +0000] [1376] [INFO] Booting worker with pid: 1376\u001b[0m\n",
      "\u001b[34m[2022-11-05:00:40:21:INFO] No GPUs detected (normal if no gpus installed)\u001b[0m\n",
      "\u001b[34m169.254.255.130 - - [05/Nov/2022:00:40:21 +0000] \"GET /ping HTTP/1.1\" 200 0 \"-\" \"Go-http-client/1.1\"\u001b[0m\n",
      "\u001b[34m169.254.255.130 - - [05/Nov/2022:00:40:21 +0000] \"GET /execution-parameters HTTP/1.1\" 200 85 \"-\" \"Go-http-client/1.1\"\u001b[0m\n",
      "\u001b[35m[2022-11-05:00:40:21:INFO] No GPUs detected (normal if no gpus installed)\u001b[0m\n",
      "\u001b[35m169.254.255.130 - - [05/Nov/2022:00:40:21 +0000] \"GET /ping HTTP/1.1\" 200 0 \"-\" \"Go-http-client/1.1\"\u001b[0m\n",
      "\u001b[35m169.254.255.130 - - [05/Nov/2022:00:40:21 +0000] \"GET /execution-parameters HTTP/1.1\" 200 85 \"-\" \"Go-http-client/1.1\"\u001b[0m\n",
      "\u001b[34m[2022-11-05:00:40:22:INFO] No GPUs detected (normal if no gpus installed)\u001b[0m\n",
      "\u001b[34m[2022-11-05:00:40:22:INFO] No GPUs detected (normal if no gpus installed)\u001b[0m\n",
      "\u001b[34m[2022-11-05:00:40:22:INFO] Determined delimiter of CSV input is ','\u001b[0m\n",
      "\u001b[34m[2022-11-05:00:40:22:INFO] No GPUs detected (normal if no gpus installed)\u001b[0m\n",
      "\u001b[34m[2022-11-05:00:40:22:INFO] No GPUs detected (normal if no gpus installed)\u001b[0m\n",
      "\u001b[34m[2022-11-05:00:40:22:INFO] Determined delimiter of CSV input is ','\u001b[0m\n",
      "\u001b[34m[2022-11-05:00:40:22:INFO] Determined delimiter of CSV input is ','\u001b[0m\n",
      "\u001b[34m[2022-11-05:00:40:22:INFO] Determined delimiter of CSV input is ','\u001b[0m\n",
      "\u001b[34m[2022-11-05:00:40:22:INFO] Determined delimiter of CSV input is ','\u001b[0m\n",
      "\u001b[35m[2022-11-05:00:40:22:INFO] No GPUs detected (normal if no gpus installed)\u001b[0m\n",
      "\u001b[35m[2022-11-05:00:40:22:INFO] No GPUs detected (normal if no gpus installed)\u001b[0m\n",
      "\u001b[35m[2022-11-05:00:40:22:INFO] Determined delimiter of CSV input is ','\u001b[0m\n",
      "\u001b[35m[2022-11-05:00:40:22:INFO] No GPUs detected (normal if no gpus installed)\u001b[0m\n",
      "\u001b[35m[2022-11-05:00:40:22:INFO] No GPUs detected (normal if no gpus installed)\u001b[0m\n",
      "\u001b[35m[2022-11-05:00:40:22:INFO] Determined delimiter of CSV input is ','\u001b[0m\n",
      "\u001b[35m[2022-11-05:00:40:22:INFO] Determined delimiter of CSV input is ','\u001b[0m\n",
      "\u001b[35m[2022-11-05:00:40:22:INFO] Determined delimiter of CSV input is ','\u001b[0m\n",
      "\u001b[35m[2022-11-05:00:40:22:INFO] Determined delimiter of CSV input is ','\u001b[0m\n",
      "\u001b[34m169.254.255.130 - - [05/Nov/2022:00:40:22 +0000] \"POST /invocations HTTP/1.1\" 200 275757 \"-\" \"Go-http-client/1.1\"\u001b[0m\n",
      "\u001b[35m169.254.255.130 - - [05/Nov/2022:00:40:22 +0000] \"POST /invocations HTTP/1.1\" 200 275757 \"-\" \"Go-http-client/1.1\"\u001b[0m\n",
      "\u001b[34m169.254.255.130 - - [05/Nov/2022:00:40:23 +0000] \"POST /invocations HTTP/1.1\" 200 650033 \"-\" \"Go-http-client/1.1\"\u001b[0m\n",
      "\u001b[34m169.254.255.130 - - [05/Nov/2022:00:40:23 +0000] \"POST /invocations HTTP/1.1\" 200 649062 \"-\" \"Go-http-client/1.1\"\u001b[0m\n",
      "\u001b[34m[2022-11-05:00:40:23:INFO] Determined delimiter of CSV input is ','\u001b[0m\n",
      "\u001b[34m[2022-11-05:00:40:23:INFO] Determined delimiter of CSV input is ','\u001b[0m\n",
      "\u001b[34m169.254.255.130 - - [05/Nov/2022:00:40:23 +0000] \"POST /invocations HTTP/1.1\" 200 650947 \"-\" \"Go-http-client/1.1\"\u001b[0m\n",
      "\u001b[35m169.254.255.130 - - [05/Nov/2022:00:40:23 +0000] \"POST /invocations HTTP/1.1\" 200 650033 \"-\" \"Go-http-client/1.1\"\u001b[0m\n",
      "\u001b[35m169.254.255.130 - - [05/Nov/2022:00:40:23 +0000] \"POST /invocations HTTP/1.1\" 200 649062 \"-\" \"Go-http-client/1.1\"\u001b[0m\n",
      "\u001b[35m[2022-11-05:00:40:23:INFO] Determined delimiter of CSV input is ','\u001b[0m\n",
      "\u001b[35m[2022-11-05:00:40:23:INFO] Determined delimiter of CSV input is ','\u001b[0m\n",
      "\u001b[35m169.254.255.130 - - [05/Nov/2022:00:40:23 +0000] \"POST /invocations HTTP/1.1\" 200 650947 \"-\" \"Go-http-client/1.1\"\u001b[0m\n",
      "\u001b[32m2022-11-05T00:40:21.354:[sagemaker logs]: MaxConcurrentTransforms=16, MaxPayloadInMB=6, BatchStrategy=MULTI_RECORD\u001b[0m\n",
      "\u001b[34m169.254.255.130 - - [05/Nov/2022:00:40:25 +0000] \"POST /invocations HTTP/1.1\" 200 647803 \"-\" \"Go-http-client/1.1\"\u001b[0m\n",
      "\u001b[35m169.254.255.130 - - [05/Nov/2022:00:40:25 +0000] \"POST /invocations HTTP/1.1\" 200 647803 \"-\" \"Go-http-client/1.1\"\u001b[0m\n",
      "\u001b[34m169.254.255.130 - - [05/Nov/2022:00:40:25 +0000] \"POST /invocations HTTP/1.1\" 200 647573 \"-\" \"Go-http-client/1.1\"\u001b[0m\n",
      "\u001b[34m169.254.255.130 - - [05/Nov/2022:00:40:25 +0000] \"POST /invocations HTTP/1.1\" 200 648879 \"-\" \"Go-http-client/1.1\"\u001b[0m\n",
      "\u001b[34m[2022-11-05:00:40:25:INFO] Determined delimiter of CSV input is ','\u001b[0m\n",
      "\u001b[35m169.254.255.130 - - [05/Nov/2022:00:40:25 +0000] \"POST /invocations HTTP/1.1\" 200 647573 \"-\" \"Go-http-client/1.1\"\u001b[0m\n",
      "\u001b[35m169.254.255.130 - - [05/Nov/2022:00:40:25 +0000] \"POST /invocations HTTP/1.1\" 200 648879 \"-\" \"Go-http-client/1.1\"\u001b[0m\n",
      "\u001b[35m[2022-11-05:00:40:25:INFO] Determined delimiter of CSV input is ','\u001b[0m\n",
      "\u001b[34m169.254.255.130 - - [05/Nov/2022:00:40:26 +0000] \"POST /invocations HTTP/1.1\" 200 649881 \"-\" \"Go-http-client/1.1\"\u001b[0m\n",
      "\u001b[35m169.254.255.130 - - [05/Nov/2022:00:40:26 +0000] \"POST /invocations HTTP/1.1\" 200 649881 \"-\" \"Go-http-client/1.1\"\u001b[0m\n"
     ]
    }
   ],
   "source": [
    "batch_output = \"s3://{}/{}/batch-out/\".format(bucket,prefix)\n",
    "batch_input = \"s3://{}/{}/batch-in/{}\".format(bucket,prefix,batch_X_file)\n",
    "\n",
    "xgb_transformer = xgb_estimator.transformer(instance_count=1,\n",
    "                                            instance_type='ml.c5.9xlarge',\n",
    "                                            strategy='MultiRecord',\n",
    "                                            assemble_with='Line',\n",
    "                                            output_path=batch_output)\n",
    "\n",
    "xgb_transformer.transform(data=batch_input,\n",
    "                         data_type='S3Prefix',\n",
    "                         content_type='text/csv',\n",
    "                         split_type='Line')\n",
    "xgb_transformer.wait()"
   ]
  },
  {
   "cell_type": "code",
   "execution_count": 17,
   "metadata": {},
   "outputs": [
    {
     "name": "stderr",
     "output_type": "stream",
     "text": [
      "/home/ec2-user/anaconda3/envs/python3/lib/python3.8/site-packages/IPython/core/interactiveshell.py:3524: FutureWarning: In a future version of pandas all arguments of read_csv except for the argument 'filepath_or_buffer' will be keyword-only\n",
      "  exec(code_obj, self.user_global_ns, self.user_ns)\n"
     ]
    },
    {
     "data": {
      "text/html": [
       "<div>\n",
       "<style scoped>\n",
       "    .dataframe tbody tr th:only-of-type {\n",
       "        vertical-align: middle;\n",
       "    }\n",
       "\n",
       "    .dataframe tbody tr th {\n",
       "        vertical-align: top;\n",
       "    }\n",
       "\n",
       "    .dataframe thead th {\n",
       "        text-align: right;\n",
       "    }\n",
       "</style>\n",
       "<table border=\"1\" class=\"dataframe\">\n",
       "  <thead>\n",
       "    <tr style=\"text-align: right;\">\n",
       "      <th></th>\n",
       "      <th>class</th>\n",
       "    </tr>\n",
       "  </thead>\n",
       "  <tbody>\n",
       "    <tr>\n",
       "      <th>0</th>\n",
       "      <td>0.140457</td>\n",
       "    </tr>\n",
       "    <tr>\n",
       "      <th>1</th>\n",
       "      <td>0.105327</td>\n",
       "    </tr>\n",
       "    <tr>\n",
       "      <th>2</th>\n",
       "      <td>0.125894</td>\n",
       "    </tr>\n",
       "    <tr>\n",
       "      <th>3</th>\n",
       "      <td>0.115904</td>\n",
       "    </tr>\n",
       "    <tr>\n",
       "      <th>4</th>\n",
       "      <td>0.077046</td>\n",
       "    </tr>\n",
       "  </tbody>\n",
       "</table>\n",
       "</div>"
      ],
      "text/plain": [
       "      class\n",
       "0  0.140457\n",
       "1  0.105327\n",
       "2  0.125894\n",
       "3  0.115904\n",
       "4  0.077046"
      ]
     },
     "execution_count": 17,
     "metadata": {},
     "output_type": "execute_result"
    }
   ],
   "source": [
    "s3 = boto3.client('s3')\n",
    "obj = s3.get_object(Bucket=bucket, Key=\"{}/batch-out/{}\".format(prefix,'batch-in.csv.out'))\n",
    "target_predicted = pd.read_csv(io.BytesIO(obj['Body'].read()),',',names=['class'])\n",
    "target_predicted.head(5)"
   ]
  },
  {
   "cell_type": "code",
   "execution_count": 20,
   "metadata": {},
   "outputs": [
    {
     "name": "stdout",
     "output_type": "stream",
     "text": [
      "      class  binary\n",
      "0  0.140457       0\n",
      "1  0.105327       0\n",
      "2  0.125894       0\n",
      "3  0.115904       0\n",
      "4  0.077046       0\n",
      "5  0.043192       0\n",
      "6  0.174943       0\n",
      "7  0.341822       0\n",
      "8  0.190818       0\n",
      "9  0.116052       0\n"
     ]
    },
    {
     "data": {
      "text/html": [
       "<div>\n",
       "<style scoped>\n",
       "    .dataframe tbody tr th:only-of-type {\n",
       "        vertical-align: middle;\n",
       "    }\n",
       "\n",
       "    .dataframe tbody tr th {\n",
       "        vertical-align: top;\n",
       "    }\n",
       "\n",
       "    .dataframe thead th {\n",
       "        text-align: right;\n",
       "    }\n",
       "</style>\n",
       "<table border=\"1\" class=\"dataframe\">\n",
       "  <thead>\n",
       "    <tr style=\"text-align: right;\">\n",
       "      <th></th>\n",
       "      <th>0</th>\n",
       "      <th>1</th>\n",
       "      <th>2</th>\n",
       "      <th>3</th>\n",
       "      <th>4</th>\n",
       "      <th>5</th>\n",
       "      <th>6</th>\n",
       "      <th>7</th>\n",
       "      <th>8</th>\n",
       "      <th>9</th>\n",
       "      <th>...</th>\n",
       "      <th>84</th>\n",
       "      <th>85</th>\n",
       "      <th>86</th>\n",
       "      <th>87</th>\n",
       "      <th>88</th>\n",
       "      <th>89</th>\n",
       "      <th>90</th>\n",
       "      <th>91</th>\n",
       "      <th>92</th>\n",
       "      <th>93</th>\n",
       "    </tr>\n",
       "  </thead>\n",
       "  <tbody>\n",
       "    <tr>\n",
       "      <th>0</th>\n",
       "      <td>0.0</td>\n",
       "      <td>1464.0</td>\n",
       "      <td>0</td>\n",
       "      <td>0</td>\n",
       "      <td>1</td>\n",
       "      <td>0</td>\n",
       "      <td>0</td>\n",
       "      <td>0</td>\n",
       "      <td>0</td>\n",
       "      <td>0</td>\n",
       "      <td>...</td>\n",
       "      <td>0</td>\n",
       "      <td>0</td>\n",
       "      <td>0</td>\n",
       "      <td>0</td>\n",
       "      <td>0</td>\n",
       "      <td>0</td>\n",
       "      <td>0</td>\n",
       "      <td>0</td>\n",
       "      <td>0</td>\n",
       "      <td>0</td>\n",
       "    </tr>\n",
       "    <tr>\n",
       "      <th>1</th>\n",
       "      <td>0.0</td>\n",
       "      <td>1464.0</td>\n",
       "      <td>0</td>\n",
       "      <td>0</td>\n",
       "      <td>1</td>\n",
       "      <td>0</td>\n",
       "      <td>0</td>\n",
       "      <td>0</td>\n",
       "      <td>0</td>\n",
       "      <td>0</td>\n",
       "      <td>...</td>\n",
       "      <td>0</td>\n",
       "      <td>0</td>\n",
       "      <td>0</td>\n",
       "      <td>0</td>\n",
       "      <td>0</td>\n",
       "      <td>0</td>\n",
       "      <td>0</td>\n",
       "      <td>0</td>\n",
       "      <td>0</td>\n",
       "      <td>0</td>\n",
       "    </tr>\n",
       "    <tr>\n",
       "      <th>2</th>\n",
       "      <td>0.0</td>\n",
       "      <td>1464.0</td>\n",
       "      <td>0</td>\n",
       "      <td>0</td>\n",
       "      <td>1</td>\n",
       "      <td>0</td>\n",
       "      <td>0</td>\n",
       "      <td>0</td>\n",
       "      <td>0</td>\n",
       "      <td>0</td>\n",
       "      <td>...</td>\n",
       "      <td>0</td>\n",
       "      <td>0</td>\n",
       "      <td>0</td>\n",
       "      <td>0</td>\n",
       "      <td>0</td>\n",
       "      <td>0</td>\n",
       "      <td>0</td>\n",
       "      <td>0</td>\n",
       "      <td>0</td>\n",
       "      <td>0</td>\n",
       "    </tr>\n",
       "    <tr>\n",
       "      <th>3</th>\n",
       "      <td>1.0</td>\n",
       "      <td>1464.0</td>\n",
       "      <td>0</td>\n",
       "      <td>0</td>\n",
       "      <td>1</td>\n",
       "      <td>0</td>\n",
       "      <td>0</td>\n",
       "      <td>0</td>\n",
       "      <td>0</td>\n",
       "      <td>0</td>\n",
       "      <td>...</td>\n",
       "      <td>0</td>\n",
       "      <td>0</td>\n",
       "      <td>0</td>\n",
       "      <td>0</td>\n",
       "      <td>0</td>\n",
       "      <td>0</td>\n",
       "      <td>0</td>\n",
       "      <td>0</td>\n",
       "      <td>0</td>\n",
       "      <td>0</td>\n",
       "    </tr>\n",
       "    <tr>\n",
       "      <th>4</th>\n",
       "      <td>0.0</td>\n",
       "      <td>1464.0</td>\n",
       "      <td>0</td>\n",
       "      <td>0</td>\n",
       "      <td>1</td>\n",
       "      <td>0</td>\n",
       "      <td>0</td>\n",
       "      <td>0</td>\n",
       "      <td>0</td>\n",
       "      <td>0</td>\n",
       "      <td>...</td>\n",
       "      <td>0</td>\n",
       "      <td>0</td>\n",
       "      <td>0</td>\n",
       "      <td>0</td>\n",
       "      <td>0</td>\n",
       "      <td>0</td>\n",
       "      <td>0</td>\n",
       "      <td>0</td>\n",
       "      <td>0</td>\n",
       "      <td>0</td>\n",
       "    </tr>\n",
       "    <tr>\n",
       "      <th>5</th>\n",
       "      <td>0.0</td>\n",
       "      <td>1464.0</td>\n",
       "      <td>0</td>\n",
       "      <td>0</td>\n",
       "      <td>1</td>\n",
       "      <td>0</td>\n",
       "      <td>0</td>\n",
       "      <td>0</td>\n",
       "      <td>0</td>\n",
       "      <td>0</td>\n",
       "      <td>...</td>\n",
       "      <td>0</td>\n",
       "      <td>0</td>\n",
       "      <td>0</td>\n",
       "      <td>0</td>\n",
       "      <td>0</td>\n",
       "      <td>0</td>\n",
       "      <td>0</td>\n",
       "      <td>0</td>\n",
       "      <td>0</td>\n",
       "      <td>0</td>\n",
       "    </tr>\n",
       "    <tr>\n",
       "      <th>6</th>\n",
       "      <td>0.0</td>\n",
       "      <td>1464.0</td>\n",
       "      <td>0</td>\n",
       "      <td>0</td>\n",
       "      <td>1</td>\n",
       "      <td>0</td>\n",
       "      <td>0</td>\n",
       "      <td>0</td>\n",
       "      <td>0</td>\n",
       "      <td>0</td>\n",
       "      <td>...</td>\n",
       "      <td>0</td>\n",
       "      <td>0</td>\n",
       "      <td>0</td>\n",
       "      <td>0</td>\n",
       "      <td>0</td>\n",
       "      <td>0</td>\n",
       "      <td>0</td>\n",
       "      <td>0</td>\n",
       "      <td>0</td>\n",
       "      <td>0</td>\n",
       "    </tr>\n",
       "    <tr>\n",
       "      <th>7</th>\n",
       "      <td>0.0</td>\n",
       "      <td>1464.0</td>\n",
       "      <td>0</td>\n",
       "      <td>0</td>\n",
       "      <td>1</td>\n",
       "      <td>0</td>\n",
       "      <td>0</td>\n",
       "      <td>0</td>\n",
       "      <td>0</td>\n",
       "      <td>0</td>\n",
       "      <td>...</td>\n",
       "      <td>0</td>\n",
       "      <td>0</td>\n",
       "      <td>0</td>\n",
       "      <td>0</td>\n",
       "      <td>0</td>\n",
       "      <td>0</td>\n",
       "      <td>0</td>\n",
       "      <td>0</td>\n",
       "      <td>0</td>\n",
       "      <td>0</td>\n",
       "    </tr>\n",
       "    <tr>\n",
       "      <th>8</th>\n",
       "      <td>0.0</td>\n",
       "      <td>1464.0</td>\n",
       "      <td>0</td>\n",
       "      <td>0</td>\n",
       "      <td>1</td>\n",
       "      <td>0</td>\n",
       "      <td>0</td>\n",
       "      <td>0</td>\n",
       "      <td>0</td>\n",
       "      <td>0</td>\n",
       "      <td>...</td>\n",
       "      <td>0</td>\n",
       "      <td>0</td>\n",
       "      <td>0</td>\n",
       "      <td>0</td>\n",
       "      <td>0</td>\n",
       "      <td>0</td>\n",
       "      <td>0</td>\n",
       "      <td>0</td>\n",
       "      <td>0</td>\n",
       "      <td>0</td>\n",
       "    </tr>\n",
       "    <tr>\n",
       "      <th>9</th>\n",
       "      <td>1.0</td>\n",
       "      <td>1464.0</td>\n",
       "      <td>0</td>\n",
       "      <td>0</td>\n",
       "      <td>1</td>\n",
       "      <td>0</td>\n",
       "      <td>0</td>\n",
       "      <td>0</td>\n",
       "      <td>0</td>\n",
       "      <td>0</td>\n",
       "      <td>...</td>\n",
       "      <td>0</td>\n",
       "      <td>0</td>\n",
       "      <td>0</td>\n",
       "      <td>0</td>\n",
       "      <td>0</td>\n",
       "      <td>0</td>\n",
       "      <td>0</td>\n",
       "      <td>0</td>\n",
       "      <td>0</td>\n",
       "      <td>0</td>\n",
       "    </tr>\n",
       "  </tbody>\n",
       "</table>\n",
       "<p>10 rows × 94 columns</p>\n",
       "</div>"
      ],
      "text/plain": [
       "    0       1   2   3   4   5   6   7   8   9   ...  84  85  86  87  88  89  \\\n",
       "0  0.0  1464.0   0   0   1   0   0   0   0   0  ...   0   0   0   0   0   0   \n",
       "1  0.0  1464.0   0   0   1   0   0   0   0   0  ...   0   0   0   0   0   0   \n",
       "2  0.0  1464.0   0   0   1   0   0   0   0   0  ...   0   0   0   0   0   0   \n",
       "3  1.0  1464.0   0   0   1   0   0   0   0   0  ...   0   0   0   0   0   0   \n",
       "4  0.0  1464.0   0   0   1   0   0   0   0   0  ...   0   0   0   0   0   0   \n",
       "5  0.0  1464.0   0   0   1   0   0   0   0   0  ...   0   0   0   0   0   0   \n",
       "6  0.0  1464.0   0   0   1   0   0   0   0   0  ...   0   0   0   0   0   0   \n",
       "7  0.0  1464.0   0   0   1   0   0   0   0   0  ...   0   0   0   0   0   0   \n",
       "8  0.0  1464.0   0   0   1   0   0   0   0   0  ...   0   0   0   0   0   0   \n",
       "9  1.0  1464.0   0   0   1   0   0   0   0   0  ...   0   0   0   0   0   0   \n",
       "\n",
       "   90  91  92  93  \n",
       "0   0   0   0   0  \n",
       "1   0   0   0   0  \n",
       "2   0   0   0   0  \n",
       "3   0   0   0   0  \n",
       "4   0   0   0   0  \n",
       "5   0   0   0   0  \n",
       "6   0   0   0   0  \n",
       "7   0   0   0   0  \n",
       "8   0   0   0   0  \n",
       "9   0   0   0   0  \n",
       "\n",
       "[10 rows x 94 columns]"
      ]
     },
     "execution_count": 20,
     "metadata": {},
     "output_type": "execute_result"
    }
   ],
   "source": [
    "def binary_convert(x):\n",
    "    threshold = 0.65\n",
    "    if x > threshold:\n",
    "        return 1\n",
    "    else:\n",
    "        return 0\n",
    "\n",
    "target_predicted['binary'] = target_predicted['class'].apply(binary_convert)\n",
    "\n",
    "print(target_predicted.head(10))\n",
    "testing_v1.head(10)"
   ]
  },
  {
   "cell_type": "markdown",
   "metadata": {},
   "source": [
    "### Report the performance metrics that you see better test the model performance"
   ]
  },
  {
   "cell_type": "code",
   "execution_count": 21,
   "metadata": {},
   "outputs": [],
   "source": [
    "#Confusion Matrix\n",
    "def plot_confusion_matrix(test_labels, target_predicted):\n",
    "    cm = confusion_matrix(test_labels, target_predicted, labels=[0,1])\n",
    "    disp = ConfusionMatrixDisplay(confusion_matrix=cm, display_labels=[0,1])\n",
    "    disp.plot()\n",
    "    plt.grid(False) #Remove white lines in plot\n",
    "    plt.show()"
   ]
  },
  {
   "cell_type": "code",
   "execution_count": 22,
   "metadata": {},
   "outputs": [],
   "source": [
    "#ROC Curve\n",
    "def plot_roc(test_labels, target_predicted):\n",
    "    fpr, tpr, thresholds = roc_curve(test_labels, target_predicted)\n",
    "    plt.plot(fpr,tpr)\n",
    "    plt.ylabel('True Positive Rate')\n",
    "    plt.xlabel('False Positive Rate')\n",
    "    plt.show()"
   ]
  },
  {
   "cell_type": "code",
   "execution_count": 29,
   "metadata": {},
   "outputs": [
    {
     "data": {
      "image/png": "[encoded data removed]",
      "text/plain": [
       "<Figure size 432x288 with 2 Axes>"
      ]
     },
     "metadata": {
      "needs_background": "light"
     },
     "output_type": "display_data"
    }
   ],
   "source": [
    "plot_confusion_matrix(testing_v1.iloc[:,0], target_predicted.binary)"
   ]
  },
  {
   "cell_type": "code",
   "execution_count": 30,
   "metadata": {},
   "outputs": [
    {
     "data": {
      "image/png": "[encoded data removed]",
      "text/plain": [
       "<Figure size 432x288 with 1 Axes>"
      ]
     },
     "metadata": {
      "needs_background": "light"
     },
     "output_type": "display_data"
    }
   ],
   "source": [
    "plot_roc(testing_v1.iloc[:,0], target_predicted.binary)"
   ]
  },
  {
   "cell_type": "code",
   "execution_count": 33,
   "metadata": {},
   "outputs": [
    {
     "name": "stdout",
     "output_type": "stream",
     "text": [
      "              precision    recall  f1-score   support\n",
      "\n",
      "         0.0       0.79      1.00      0.88    193799\n",
      "         1.0       0.80      0.01      0.02     51540\n",
      "\n",
      "    accuracy                           0.79    245339\n",
      "   macro avg       0.80      0.51      0.45    245339\n",
      "weighted avg       0.79      0.79      0.70    245339\n",
      "\n"
     ]
    }
   ],
   "source": [
    "print(classification_report(testing_v1.iloc[:,0], target_predicted.binary))"
   ]
  },
  {
   "cell_type": "markdown",
   "metadata": {},
   "source": [
    "## Combined CSV V2"
   ]
  },
  {
   "cell_type": "code",
   "execution_count": null,
   "metadata": {},
   "outputs": [],
   "source": [
    "#Import the dataset\n",
    "data_v2 = pd.read_csv(\"combined_csv_v2.csv\")"
   ]
  },
  {
   "cell_type": "code",
   "execution_count": null,
   "metadata": {},
   "outputs": [],
   "source": [
    "data_v2.head()"
   ]
  },
  {
   "cell_type": "code",
   "execution_count": null,
   "metadata": {},
   "outputs": [],
   "source": [
    "data_v2.shape"
   ]
  },
  {
   "cell_type": "code",
   "execution_count": null,
   "metadata": {},
   "outputs": [],
   "source": [
    "data_v2.columns"
   ]
  },
  {
   "cell_type": "code",
   "execution_count": null,
   "metadata": {},
   "outputs": [],
   "source": [
    "#Move target column to front\n",
    "data_v2 = pd.concat([data_v2['target'], data_v2.drop(['target', 'Unnamed: 0'], axis=1)], axis=1)"
   ]
  },
  {
   "cell_type": "markdown",
   "metadata": {},
   "source": [
    "### Split data into training, validation and testing sets (70% - 15% - 15%)."
   ]
  },
  {
   "cell_type": "code",
   "execution_count": null,
   "metadata": {},
   "outputs": [],
   "source": [
    "training_v2 = data_v2.sample(frac=0.70, random_state=0)\n",
    "testing_validation_v2 = data_v2.loc[~data_v2.index.isin(training_v2.index), :]\n",
    "validation_v2 = testing_validation_v2.sample(frac=0.5, random_state=0)\n",
    "testing_v2 = testing_validation_v2.loc[~testing_validation_v2.index.isin(validation_v2.index), :]\n",
    "\n",
    "print(training_v2.shape)\n",
    "print(validation_v2.shape)\n",
    "print(testing_v2.shape)"
   ]
  },
  {
   "cell_type": "code",
   "execution_count": null,
   "metadata": {},
   "outputs": [],
   "source": [
    "training_v2.to_csv('training_v2.csv', index=False, header=False)\n",
    "validation_v2.to_csv('validation_v2.csv', index=False, header=False)\n",
    "testing_v2.to_csv('testing_v2.csv', index=False, header=False)"
   ]
  },
  {
   "cell_type": "code",
   "execution_count": 2,
   "metadata": {},
   "outputs": [
    {
     "name": "stdout",
     "output_type": "stream",
     "text": [
      "s3://sagemaker-us-east-1-001681017689/flights_delay_xgboost2/input/training/training_v2.csv\n",
      "s3://sagemaker-us-east-1-001681017689/flights_delay_xgboost2/input/validation/validation_v2.csv\n",
      "s3://sagemaker-us-east-1-001681017689/flights_delay_xgboost2/input/testing/testing_v2.csv\n"
     ]
    }
   ],
   "source": [
    "sess = sagemaker.Session()\n",
    "bucket = sess.default_bucket()\n",
    "\n",
    "prefix = 'flights_delay_xgboost2'\n",
    "training_data_path = sess.upload_data(path='training_v2.csv', key_prefix=prefix + '/input/training')\n",
    "validation_data_path = sess.upload_data(path='validation_v2.csv', key_prefix=prefix + '/input/validation')\n",
    "testing_data_path = sess.upload_data(path='testing_v2.csv', key_prefix=prefix + '/input/testing')\n",
    "\n",
    "print(training_data_path)\n",
    "print(validation_data_path)\n",
    "print(testing_data_path)"
   ]
  },
  {
   "cell_type": "markdown",
   "metadata": {},
   "source": [
    "### Use xgboost estimator to build a classifcation model."
   ]
  },
  {
   "cell_type": "code",
   "execution_count": 3,
   "metadata": {},
   "outputs": [
    {
     "name": "stderr",
     "output_type": "stream",
     "text": [
      "The method get_image_uri has been renamed in sagemaker>=2.\n",
      "See: https://sagemaker.readthedocs.io/en/stable/v2.html for details.\n",
      "train_instance_count has been renamed in sagemaker>=2.\n",
      "See: https://sagemaker.readthedocs.io/en/stable/v2.html for details.\n",
      "train_instance_type has been renamed in sagemaker>=2.\n",
      "See: https://sagemaker.readthedocs.io/en/stable/v2.html for details.\n"
     ]
    }
   ],
   "source": [
    "region = boto3.Session().region_name    \n",
    "container = get_image_uri(region, 'xgboost', repo_version='1.0-1')\n",
    "\n",
    "role = sagemaker.get_execution_role() \n",
    "\n",
    "xgb_estimator = Estimator(container,\n",
    "    role=role, \n",
    "    train_instance_count=1,\n",
    "    train_instance_type='ml.c5.9xlarge',\n",
    "    output_path='s3://{}/{}/output'.format(bucket, prefix)\n",
    ")\n",
    "\n",
    "xgb_estimator.set_hyperparameters(objective='binary:logistic',\n",
    "                                 num_round=200,\n",
    "                                 early_stopping_rounds=10)"
   ]
  },
  {
   "cell_type": "code",
   "execution_count": 4,
   "metadata": {},
   "outputs": [],
   "source": [
    "training_data_channel   = sagemaker.TrainingInput(s3_data=training_data_path, content_type='text/csv')\n",
    "validation_data_channel = sagemaker.TrainingInput(s3_data=validation_data_path, content_type='text/csv')\n",
    "testing_data_channel    = sagemaker.TrainingInput(s3_data=testing_data_path, content_type='text/csv')\n",
    "\n",
    "xgb_data = {'train': training_data_channel, 'validation': validation_data_channel}"
   ]
  },
  {
   "cell_type": "code",
   "execution_count": 5,
   "metadata": {},
   "outputs": [
    {
     "name": "stdout",
     "output_type": "stream",
     "text": [
      "2022-11-04 05:29:35 Starting - Starting the training job...\n",
      "2022-11-04 05:29:59 Starting - Preparing the instances for trainingProfilerReport-1667539775: InProgress\n",
      "......\n",
      "2022-11-04 05:31:02 Downloading - Downloading input data...\n",
      "2022-11-04 05:31:22 Training - Downloading the training image...\n",
      "2022-11-04 05:31:59 Training - Training image download completed. Training in progress.\u001b[34mINFO:sagemaker-containers:Imported framework sagemaker_xgboost_container.training\u001b[0m\n",
      "\u001b[34mINFO:sagemaker-containers:Failed to parse hyperparameter objective value reg:squarederror to Json.\u001b[0m\n",
      "\u001b[34mReturning the value itself\u001b[0m\n",
      "\u001b[34mINFO:sagemaker-containers:No GPUs detected (normal if no gpus installed)\u001b[0m\n",
      "\u001b[34mINFO:sagemaker_xgboost_container.training:Running XGBoost Sagemaker in algorithm mode\u001b[0m\n",
      "\u001b[34mINFO:root:Determined delimiter of CSV input is ','\u001b[0m\n",
      "\u001b[34mINFO:root:Determined delimiter of CSV input is ','\u001b[0m\n",
      "\u001b[34mINFO:root:Determined delimiter of CSV input is ','\u001b[0m\n",
      "\u001b[34m[05:32:00] 1144913x85 matrix with 97317605 entries loaded from /opt/ml/input/data/train?format=csv&label_column=0&delimiter=,\u001b[0m\n",
      "\u001b[34mINFO:root:Determined delimiter of CSV input is ','\u001b[0m\n",
      "\u001b[34m[05:32:01] 245338x85 matrix with 20853730 entries loaded from /opt/ml/input/data/validation?format=csv&label_column=0&delimiter=,\u001b[0m\n",
      "\u001b[34mINFO:root:Single node training.\u001b[0m\n",
      "\u001b[34m[2022-11-04 05:32:01.223 ip-10-0-215-248.ec2.internal:1 INFO json_config.py:90] Creating hook from json_config at /opt/ml/input/config/debughookconfig.json.\u001b[0m\n",
      "\u001b[34m[2022-11-04 05:32:01.223 ip-10-0-215-248.ec2.internal:1 INFO hook.py:151] tensorboard_dir has not been set for the hook. SMDebug will not be exporting tensorboard summaries.\u001b[0m\n",
      "\u001b[34m[2022-11-04 05:32:01.223 ip-10-0-215-248.ec2.internal:1 INFO hook.py:196] Saving to /opt/ml/output/tensors\u001b[0m\n",
      "\u001b[34mINFO:root:Debug hook created from config\u001b[0m\n",
      "\u001b[34mINFO:root:Train matrix has 1144913 rows\u001b[0m\n",
      "\u001b[34mINFO:root:Validation matrix has 245338 rows\u001b[0m\n",
      "\u001b[34m[05:32:01] WARNING: /workspace/src/learner.cc:328: \u001b[0m\n",
      "\u001b[34mParameters: { early_stopping_rounds, num_round } might not be used.\n",
      "  This may not be accurate due to some parameters are only used in language bindings but\n",
      "  passed down to XGBoost core.  Or some parameters are not used but slip through this\n",
      "  verification. Please open an issue if you find above cases.\u001b[0m\n",
      "\u001b[34m[0]#011train-rmse:0.44858#011validation-rmse:0.44849\u001b[0m\n",
      "\u001b[34m[2022-11-04 05:32:02.230 ip-10-0-215-248.ec2.internal:1 INFO hook.py:325] Monitoring the collections: metrics\u001b[0m\n",
      "\u001b[34m[1]#011train-rmse:0.42045#011validation-rmse:0.42032\u001b[0m\n",
      "\u001b[34m[2]#011train-rmse:0.40543#011validation-rmse:0.40541\u001b[0m\n",
      "\u001b[34m[3]#011train-rmse:0.39751#011validation-rmse:0.39754\u001b[0m\n",
      "\u001b[34m[4]#011train-rmse:0.39309#011validation-rmse:0.39320\u001b[0m\n",
      "\u001b[34m[5]#011train-rmse:0.39055#011validation-rmse:0.39067\u001b[0m\n",
      "\u001b[34m[6]#011train-rmse:0.38889#011validation-rmse:0.38905\u001b[0m\n",
      "\u001b[34m[7]#011train-rmse:0.38775#011validation-rmse:0.38796\u001b[0m\n",
      "\u001b[34m[8]#011train-rmse:0.38696#011validation-rmse:0.38723\u001b[0m\n",
      "\u001b[34m[9]#011train-rmse:0.38636#011validation-rmse:0.38667\u001b[0m\n",
      "\u001b[34m[10]#011train-rmse:0.38585#011validation-rmse:0.38621\u001b[0m\n",
      "\u001b[34m[11]#011train-rmse:0.38531#011validation-rmse:0.38566\u001b[0m\n",
      "\u001b[34m[12]#011train-rmse:0.38491#011validation-rmse:0.38529\u001b[0m\n",
      "\u001b[34m[13]#011train-rmse:0.38449#011validation-rmse:0.38492\u001b[0m\n",
      "\u001b[34m[14]#011train-rmse:0.38410#011validation-rmse:0.38453\u001b[0m\n",
      "\u001b[34m[15]#011train-rmse:0.38375#011validation-rmse:0.38424\u001b[0m\n",
      "\u001b[34m[16]#011train-rmse:0.38340#011validation-rmse:0.38392\u001b[0m\n",
      "\u001b[34m[17]#011train-rmse:0.38293#011validation-rmse:0.38348\u001b[0m\n",
      "\u001b[34m[18]#011train-rmse:0.38239#011validation-rmse:0.38296\u001b[0m\n",
      "\u001b[34m[19]#011train-rmse:0.38209#011validation-rmse:0.38270\u001b[0m\n",
      "\u001b[34m[20]#011train-rmse:0.38191#011validation-rmse:0.38256\u001b[0m\n",
      "\u001b[34m[21]#011train-rmse:0.38171#011validation-rmse:0.38238\u001b[0m\n",
      "\u001b[34m[22]#011train-rmse:0.38142#011validation-rmse:0.38210\u001b[0m\n",
      "\u001b[34m[23]#011train-rmse:0.38119#011validation-rmse:0.38189\u001b[0m\n",
      "\u001b[34m[24]#011train-rmse:0.38098#011validation-rmse:0.38171\u001b[0m\n",
      "\u001b[34m[25]#011train-rmse:0.38078#011validation-rmse:0.38154\u001b[0m\n",
      "\u001b[34m[26]#011train-rmse:0.38043#011validation-rmse:0.38125\u001b[0m\n",
      "\u001b[34m[27]#011train-rmse:0.38032#011validation-rmse:0.38116\u001b[0m\n",
      "\u001b[34m[28]#011train-rmse:0.38012#011validation-rmse:0.38098\u001b[0m\n",
      "\u001b[34m[29]#011train-rmse:0.37995#011validation-rmse:0.38083\u001b[0m\n",
      "\u001b[34m[30]#011train-rmse:0.37977#011validation-rmse:0.38069\u001b[0m\n",
      "\u001b[34m[31]#011train-rmse:0.37960#011validation-rmse:0.38055\u001b[0m\n",
      "\u001b[34m[32]#011train-rmse:0.37942#011validation-rmse:0.38039\u001b[0m\n",
      "\u001b[34m[33]#011train-rmse:0.37931#011validation-rmse:0.38033\u001b[0m\n",
      "\u001b[34m[34]#011train-rmse:0.37915#011validation-rmse:0.38019\u001b[0m\n",
      "\u001b[34m[35]#011train-rmse:0.37900#011validation-rmse:0.38007\u001b[0m\n",
      "\u001b[34m[36]#011train-rmse:0.37890#011validation-rmse:0.38001\u001b[0m\n",
      "\u001b[34m[37]#011train-rmse:0.37877#011validation-rmse:0.37990\u001b[0m\n",
      "\u001b[34m[38]#011train-rmse:0.37863#011validation-rmse:0.37979\u001b[0m\n",
      "\u001b[34m[39]#011train-rmse:0.37850#011validation-rmse:0.37970\u001b[0m\n",
      "\u001b[34m[40]#011train-rmse:0.37834#011validation-rmse:0.37959\u001b[0m\n",
      "\u001b[34m[41]#011train-rmse:0.37822#011validation-rmse:0.37949\u001b[0m\n",
      "\u001b[34m[42]#011train-rmse:0.37804#011validation-rmse:0.37934\u001b[0m\n",
      "\u001b[34m[43]#011train-rmse:0.37792#011validation-rmse:0.37927\u001b[0m\n",
      "\u001b[34m[44]#011train-rmse:0.37774#011validation-rmse:0.37911\u001b[0m\n",
      "\u001b[34m[45]#011train-rmse:0.37761#011validation-rmse:0.37900\u001b[0m\n",
      "\u001b[34m[46]#011train-rmse:0.37745#011validation-rmse:0.37887\u001b[0m\n",
      "\u001b[34m[47]#011train-rmse:0.37739#011validation-rmse:0.37883\u001b[0m\n",
      "\u001b[34m[48]#011train-rmse:0.37726#011validation-rmse:0.37871\u001b[0m\n",
      "\u001b[34m[49]#011train-rmse:0.37715#011validation-rmse:0.37864\u001b[0m\n",
      "\u001b[34m[50]#011train-rmse:0.37708#011validation-rmse:0.37859\u001b[0m\n",
      "\u001b[34m[51]#011train-rmse:0.37702#011validation-rmse:0.37855\u001b[0m\n",
      "\u001b[34m[52]#011train-rmse:0.37690#011validation-rmse:0.37845\u001b[0m\n",
      "\u001b[34m[53]#011train-rmse:0.37674#011validation-rmse:0.37833\u001b[0m\n",
      "\u001b[34m[54]#011train-rmse:0.37664#011validation-rmse:0.37827\u001b[0m\n",
      "\u001b[34m[55]#011train-rmse:0.37650#011validation-rmse:0.37815\u001b[0m\n",
      "\u001b[34m[56]#011train-rmse:0.37639#011validation-rmse:0.37807\u001b[0m\n",
      "\u001b[34m[57]#011train-rmse:0.37632#011validation-rmse:0.37801\u001b[0m\n",
      "\u001b[34m[58]#011train-rmse:0.37624#011validation-rmse:0.37795\u001b[0m\n",
      "\u001b[34m[59]#011train-rmse:0.37609#011validation-rmse:0.37783\u001b[0m\n",
      "\u001b[34m[60]#011train-rmse:0.37595#011validation-rmse:0.37771\u001b[0m\n",
      "\u001b[34m[61]#011train-rmse:0.37586#011validation-rmse:0.37765\u001b[0m\n",
      "\u001b[34m[62]#011train-rmse:0.37577#011validation-rmse:0.37760\u001b[0m\n",
      "\u001b[34m[63]#011train-rmse:0.37570#011validation-rmse:0.37757\u001b[0m\n",
      "\u001b[34m[64]#011train-rmse:0.37564#011validation-rmse:0.37754\u001b[0m\n",
      "\u001b[34m[65]#011train-rmse:0.37554#011validation-rmse:0.37749\u001b[0m\n",
      "\u001b[34m[66]#011train-rmse:0.37544#011validation-rmse:0.37743\u001b[0m\n",
      "\u001b[34m[67]#011train-rmse:0.37535#011validation-rmse:0.37737\u001b[0m\n",
      "\u001b[34m[68]#011train-rmse:0.37528#011validation-rmse:0.37732\u001b[0m\n",
      "\u001b[34m[69]#011train-rmse:0.37519#011validation-rmse:0.37726\u001b[0m\n",
      "\u001b[34m[70]#011train-rmse:0.37506#011validation-rmse:0.37714\u001b[0m\n",
      "\u001b[34m[71]#011train-rmse:0.37500#011validation-rmse:0.37711\u001b[0m\n",
      "\u001b[34m[72]#011train-rmse:0.37499#011validation-rmse:0.37711\u001b[0m\n",
      "\u001b[34m[73]#011train-rmse:0.37486#011validation-rmse:0.37702\u001b[0m\n",
      "\u001b[34m[74]#011train-rmse:0.37477#011validation-rmse:0.37697\u001b[0m\n",
      "\u001b[34m[75]#011train-rmse:0.37467#011validation-rmse:0.37690\u001b[0m\n",
      "\u001b[34m[76]#011train-rmse:0.37460#011validation-rmse:0.37687\u001b[0m\n",
      "\u001b[34m[77]#011train-rmse:0.37448#011validation-rmse:0.37678\u001b[0m\n",
      "\u001b[34m[78]#011train-rmse:0.37445#011validation-rmse:0.37676\u001b[0m\n",
      "\u001b[34m[79]#011train-rmse:0.37443#011validation-rmse:0.37676\u001b[0m\n",
      "\u001b[34m[80]#011train-rmse:0.37433#011validation-rmse:0.37667\u001b[0m\n",
      "\u001b[34m[81]#011train-rmse:0.37425#011validation-rmse:0.37663\u001b[0m\n",
      "\u001b[34m[82]#011train-rmse:0.37416#011validation-rmse:0.37657\u001b[0m\n",
      "\u001b[34m[83]#011train-rmse:0.37413#011validation-rmse:0.37655\u001b[0m\n",
      "\u001b[34m[84]#011train-rmse:0.37404#011validation-rmse:0.37646\u001b[0m\n",
      "\u001b[34m[85]#011train-rmse:0.37390#011validation-rmse:0.37635\u001b[0m\n",
      "\u001b[34m[86]#011train-rmse:0.37383#011validation-rmse:0.37630\u001b[0m\n",
      "\u001b[34m[87]#011train-rmse:0.37379#011validation-rmse:0.37628\u001b[0m\n",
      "\u001b[34m[88]#011train-rmse:0.37376#011validation-rmse:0.37627\u001b[0m\n",
      "\u001b[34m[89]#011train-rmse:0.37369#011validation-rmse:0.37622\u001b[0m\n",
      "\u001b[34m[90]#011train-rmse:0.37364#011validation-rmse:0.37620\u001b[0m\n",
      "\u001b[34m[91]#011train-rmse:0.37362#011validation-rmse:0.37620\u001b[0m\n",
      "\u001b[34m[92]#011train-rmse:0.37354#011validation-rmse:0.37613\u001b[0m\n",
      "\u001b[34m[93]#011train-rmse:0.37348#011validation-rmse:0.37609\u001b[0m\n",
      "\u001b[34m[94]#011train-rmse:0.37344#011validation-rmse:0.37606\u001b[0m\n",
      "\u001b[34m[95]#011train-rmse:0.37335#011validation-rmse:0.37601\u001b[0m\n",
      "\u001b[34m[96]#011train-rmse:0.37329#011validation-rmse:0.37598\u001b[0m\n",
      "\u001b[34m[97]#011train-rmse:0.37323#011validation-rmse:0.37595\u001b[0m\n",
      "\u001b[34m[98]#011train-rmse:0.37322#011validation-rmse:0.37594\u001b[0m\n",
      "\u001b[34m[99]#011train-rmse:0.37311#011validation-rmse:0.37587\u001b[0m\n",
      "\u001b[34m[100]#011train-rmse:0.37306#011validation-rmse:0.37584\u001b[0m\n",
      "\u001b[34m[101]#011train-rmse:0.37298#011validation-rmse:0.37578\u001b[0m\n",
      "\u001b[34m[102]#011train-rmse:0.37291#011validation-rmse:0.37576\u001b[0m\n",
      "\u001b[34m[103]#011train-rmse:0.37284#011validation-rmse:0.37570\u001b[0m\n",
      "\u001b[34m[104]#011train-rmse:0.37274#011validation-rmse:0.37563\u001b[0m\n",
      "\u001b[34m[105]#011train-rmse:0.37267#011validation-rmse:0.37560\u001b[0m\n",
      "\u001b[34m[106]#011train-rmse:0.37258#011validation-rmse:0.37556\u001b[0m\n",
      "\u001b[34m[107]#011train-rmse:0.37250#011validation-rmse:0.37549\u001b[0m\n",
      "\u001b[34m[108]#011train-rmse:0.37241#011validation-rmse:0.37544\u001b[0m\n",
      "\u001b[34m[109]#011train-rmse:0.37232#011validation-rmse:0.37537\u001b[0m\n",
      "\u001b[34m[110]#011train-rmse:0.37223#011validation-rmse:0.37531\u001b[0m\n",
      "\u001b[34m[111]#011train-rmse:0.37215#011validation-rmse:0.37526\u001b[0m\n",
      "\u001b[34m[112]#011train-rmse:0.37206#011validation-rmse:0.37520\u001b[0m\n",
      "\u001b[34m[113]#011train-rmse:0.37202#011validation-rmse:0.37518\u001b[0m\n",
      "\u001b[34m[114]#011train-rmse:0.37198#011validation-rmse:0.37516\u001b[0m\n",
      "\u001b[34m[115]#011train-rmse:0.37195#011validation-rmse:0.37516\u001b[0m\n",
      "\u001b[34m[116]#011train-rmse:0.37190#011validation-rmse:0.37512\u001b[0m\n",
      "\u001b[34m[117]#011train-rmse:0.37184#011validation-rmse:0.37509\u001b[0m\n",
      "\u001b[34m[118]#011train-rmse:0.37176#011validation-rmse:0.37504\u001b[0m\n",
      "\u001b[34m[119]#011train-rmse:0.37171#011validation-rmse:0.37501\u001b[0m\n",
      "\u001b[34m[120]#011train-rmse:0.37167#011validation-rmse:0.37499\u001b[0m\n",
      "\u001b[34m[121]#011train-rmse:0.37163#011validation-rmse:0.37496\u001b[0m\n",
      "\u001b[34m[122]#011train-rmse:0.37155#011validation-rmse:0.37493\u001b[0m\n",
      "\u001b[34m[123]#011train-rmse:0.37148#011validation-rmse:0.37487\u001b[0m\n",
      "\u001b[34m[124]#011train-rmse:0.37142#011validation-rmse:0.37485\u001b[0m\n",
      "\u001b[34m[125]#011train-rmse:0.37137#011validation-rmse:0.37483\u001b[0m\n",
      "\u001b[34m[126]#011train-rmse:0.37126#011validation-rmse:0.37477\u001b[0m\n",
      "\u001b[34m[127]#011train-rmse:0.37122#011validation-rmse:0.37475\u001b[0m\n",
      "\u001b[34m[128]#011train-rmse:0.37117#011validation-rmse:0.37471\u001b[0m\n",
      "\u001b[34m[129]#011train-rmse:0.37113#011validation-rmse:0.37470\u001b[0m\n",
      "\u001b[34m[130]#011train-rmse:0.37109#011validation-rmse:0.37468\u001b[0m\n",
      "\u001b[34m[131]#011train-rmse:0.37105#011validation-rmse:0.37465\u001b[0m\n",
      "\u001b[34m[132]#011train-rmse:0.37097#011validation-rmse:0.37460\u001b[0m\n",
      "\u001b[34m[133]#011train-rmse:0.37095#011validation-rmse:0.37460\u001b[0m\n",
      "\u001b[34m[134]#011train-rmse:0.37091#011validation-rmse:0.37458\u001b[0m\n",
      "\u001b[34m[135]#011train-rmse:0.37085#011validation-rmse:0.37454\u001b[0m\n",
      "\u001b[34m[136]#011train-rmse:0.37078#011validation-rmse:0.37449\u001b[0m\n",
      "\u001b[34m[137]#011train-rmse:0.37068#011validation-rmse:0.37441\u001b[0m\n",
      "\u001b[34m[138]#011train-rmse:0.37061#011validation-rmse:0.37436\u001b[0m\n",
      "\u001b[34m[139]#011train-rmse:0.37054#011validation-rmse:0.37431\u001b[0m\n",
      "\u001b[34m[140]#011train-rmse:0.37047#011validation-rmse:0.37427\u001b[0m\n",
      "\u001b[34m[141]#011train-rmse:0.37035#011validation-rmse:0.37416\u001b[0m\n",
      "\u001b[34m[142]#011train-rmse:0.37027#011validation-rmse:0.37412\u001b[0m\n",
      "\u001b[34m[143]#011train-rmse:0.37023#011validation-rmse:0.37409\u001b[0m\n",
      "\u001b[34m[144]#011train-rmse:0.37016#011validation-rmse:0.37405\u001b[0m\n",
      "\u001b[34m[145]#011train-rmse:0.37012#011validation-rmse:0.37402\u001b[0m\n",
      "\u001b[34m[146]#011train-rmse:0.37006#011validation-rmse:0.37399\u001b[0m\n",
      "\u001b[34m[147]#011train-rmse:0.37001#011validation-rmse:0.37397\u001b[0m\n",
      "\u001b[34m[148]#011train-rmse:0.37000#011validation-rmse:0.37398\u001b[0m\n",
      "\u001b[34m[149]#011train-rmse:0.36996#011validation-rmse:0.37396\u001b[0m\n",
      "\u001b[34m[150]#011train-rmse:0.36992#011validation-rmse:0.37396\u001b[0m\n",
      "\u001b[34m[151]#011train-rmse:0.36988#011validation-rmse:0.37394\u001b[0m\n",
      "\u001b[34m[152]#011train-rmse:0.36981#011validation-rmse:0.37388\u001b[0m\n",
      "\u001b[34m[153]#011train-rmse:0.36980#011validation-rmse:0.37388\u001b[0m\n",
      "\u001b[34m[154]#011train-rmse:0.36978#011validation-rmse:0.37387\u001b[0m\n",
      "\u001b[34m[155]#011train-rmse:0.36975#011validation-rmse:0.37386\u001b[0m\n",
      "\u001b[34m[156]#011train-rmse:0.36967#011validation-rmse:0.37382\u001b[0m\n",
      "\u001b[34m[157]#011train-rmse:0.36961#011validation-rmse:0.37377\u001b[0m\n",
      "\u001b[34m[158]#011train-rmse:0.36953#011validation-rmse:0.37372\u001b[0m\n",
      "\u001b[34m[159]#011train-rmse:0.36947#011validation-rmse:0.37368\u001b[0m\n",
      "\u001b[34m[160]#011train-rmse:0.36938#011validation-rmse:0.37362\u001b[0m\n",
      "\u001b[34m[161]#011train-rmse:0.36929#011validation-rmse:0.37355\u001b[0m\n",
      "\u001b[34m[162]#011train-rmse:0.36925#011validation-rmse:0.37354\u001b[0m\n",
      "\u001b[34m[163]#011train-rmse:0.36920#011validation-rmse:0.37351\u001b[0m\n",
      "\u001b[34m[164]#011train-rmse:0.36913#011validation-rmse:0.37346\u001b[0m\n",
      "\u001b[34m[165]#011train-rmse:0.36904#011validation-rmse:0.37340\u001b[0m\n",
      "\u001b[34m[166]#011train-rmse:0.36896#011validation-rmse:0.37335\u001b[0m\n",
      "\u001b[34m[167]#011train-rmse:0.36891#011validation-rmse:0.37332\u001b[0m\n",
      "\u001b[34m[168]#011train-rmse:0.36887#011validation-rmse:0.37330\u001b[0m\n",
      "\u001b[34m[169]#011train-rmse:0.36882#011validation-rmse:0.37329\u001b[0m\n",
      "\u001b[34m[170]#011train-rmse:0.36878#011validation-rmse:0.37327\u001b[0m\n",
      "\u001b[34m[171]#011train-rmse:0.36877#011validation-rmse:0.37327\u001b[0m\n",
      "\u001b[34m[172]#011train-rmse:0.36876#011validation-rmse:0.37327\u001b[0m\n",
      "\u001b[34m[173]#011train-rmse:0.36872#011validation-rmse:0.37325\u001b[0m\n",
      "\u001b[34m[174]#011train-rmse:0.36862#011validation-rmse:0.37317\u001b[0m\n",
      "\u001b[34m[175]#011train-rmse:0.36858#011validation-rmse:0.37316\u001b[0m\n",
      "\u001b[34m[176]#011train-rmse:0.36855#011validation-rmse:0.37315\u001b[0m\n",
      "\u001b[34m[177]#011train-rmse:0.36850#011validation-rmse:0.37313\u001b[0m\n",
      "\u001b[34m[178]#011train-rmse:0.36846#011validation-rmse:0.37312\u001b[0m\n",
      "\u001b[34m[179]#011train-rmse:0.36840#011validation-rmse:0.37309\u001b[0m\n",
      "\u001b[34m[180]#011train-rmse:0.36834#011validation-rmse:0.37306\u001b[0m\n",
      "\u001b[34m[181]#011train-rmse:0.36827#011validation-rmse:0.37302\u001b[0m\n",
      "\u001b[34m[182]#011train-rmse:0.36822#011validation-rmse:0.37300\u001b[0m\n",
      "\u001b[34m[183]#011train-rmse:0.36815#011validation-rmse:0.37296\u001b[0m\n",
      "\u001b[34m[184]#011train-rmse:0.36812#011validation-rmse:0.37295\u001b[0m\n",
      "\u001b[34m[185]#011train-rmse:0.36805#011validation-rmse:0.37289\u001b[0m\n",
      "\u001b[34m[186]#011train-rmse:0.36799#011validation-rmse:0.37285\u001b[0m\n",
      "\u001b[34m[187]#011train-rmse:0.36793#011validation-rmse:0.37282\u001b[0m\n",
      "\u001b[34m[188]#011train-rmse:0.36787#011validation-rmse:0.37278\u001b[0m\n",
      "\u001b[34m[189]#011train-rmse:0.36783#011validation-rmse:0.37276\u001b[0m\n",
      "\u001b[34m[190]#011train-rmse:0.36778#011validation-rmse:0.37274\u001b[0m\n",
      "\u001b[34m[191]#011train-rmse:0.36774#011validation-rmse:0.37275\u001b[0m\n",
      "\u001b[34m[192]#011train-rmse:0.36769#011validation-rmse:0.37272\u001b[0m\n",
      "\u001b[34m[193]#011train-rmse:0.36763#011validation-rmse:0.37269\u001b[0m\n",
      "\u001b[34m[194]#011train-rmse:0.36759#011validation-rmse:0.37266\u001b[0m\n",
      "\u001b[34m[195]#011train-rmse:0.36757#011validation-rmse:0.37266\u001b[0m\n",
      "\u001b[34m[196]#011train-rmse:0.36751#011validation-rmse:0.37264\u001b[0m\n",
      "\u001b[34m[197]#011train-rmse:0.36747#011validation-rmse:0.37262\u001b[0m\n",
      "\u001b[34m[198]#011train-rmse:0.36743#011validation-rmse:0.37260\u001b[0m\n",
      "\u001b[34m[199]#011train-rmse:0.36738#011validation-rmse:0.37258\u001b[0m\n",
      "\n",
      "2022-11-04 05:33:09 Uploading - Uploading generated training model\n",
      "2022-11-04 05:33:09 Completed - Training job completed\n",
      "Training seconds: 128\n",
      "Billable seconds: 128\n"
     ]
    }
   ],
   "source": [
    "xgb_estimator.fit(xgb_data)"
   ]
  },
  {
   "cell_type": "markdown",
   "metadata": {},
   "source": [
    "### Host the model on another instance"
   ]
  },
  {
   "cell_type": "code",
   "execution_count": 6,
   "metadata": {},
   "outputs": [
    {
     "name": "stdout",
     "output_type": "stream",
     "text": [
      "xgb-demo-04-05-33-39\n"
     ]
    }
   ],
   "source": [
    "timestamp = strftime('%d-%H-%M-%S', gmtime())\n",
    "\n",
    "endpoint_name = 'xgb-demo-'+timestamp\n",
    "print(endpoint_name)"
   ]
  },
  {
   "cell_type": "code",
   "execution_count": 7,
   "metadata": {},
   "outputs": [
    {
     "name": "stdout",
     "output_type": "stream",
     "text": [
      "-----!"
     ]
    }
   ],
   "source": [
    "xgb_predictor = xgb_estimator.deploy(endpoint_name=endpoint_name, \n",
    "                        initial_instance_count=1, \n",
    "                        instance_type='ml.c5.9xlarge')"
   ]
  },
  {
   "cell_type": "code",
   "execution_count": null,
   "metadata": {},
   "outputs": [],
   "source": [
    "xgb_predictor.delete_endpoint()"
   ]
  },
  {
   "cell_type": "markdown",
   "metadata": {},
   "source": [
    "### Perform batch transform to evaluate the model on testing data"
   ]
  },
  {
   "cell_type": "code",
   "execution_count": null,
   "metadata": {},
   "outputs": [],
   "source": [
    "testing_v2 = pd.read_csv(\"testing_v2.csv\", header=None)\n",
    "batch_X = testing_v2.iloc[:,1:]\n",
    "batch_X.head()"
   ]
  },
  {
   "cell_type": "code",
   "execution_count": null,
   "metadata": {},
   "outputs": [],
   "source": [
    "s3_resource = boto3.Session().resource('s3')\n",
    "def upload_s3_csv(filename, folder, dataframe):\n",
    "    csv_buffer = io.StringIO()\n",
    "    dataframe.to_csv(csv_buffer, header=False, index=False )\n",
    "    s3_resource.Bucket(bucket).Object(os.path.join(prefix, folder, filename)).put(Body=csv_buffer.getvalue())"
   ]
  },
  {
   "cell_type": "code",
   "execution_count": null,
   "metadata": {},
   "outputs": [],
   "source": [
    "batch_X_file='batch-in.csv'\n",
    "upload_s3_csv(batch_X_file, 'batch-in', batch_X)"
   ]
  },
  {
   "cell_type": "code",
   "execution_count": null,
   "metadata": {},
   "outputs": [],
   "source": [
    "batch_output = \"s3://{}/{}/batch-out/\".format(bucket,prefix)\n",
    "batch_input = \"s3://{}/{}/batch-in/{}\".format(bucket,prefix,batch_X_file)\n",
    "\n",
    "xgb_transformer = xgb_estimator.transformer(instance_count=1,\n",
    "                                            instance_type='ml.c5.9xlarge',\n",
    "                                            strategy='MultiRecord',\n",
    "                                            assemble_with='Line',\n",
    "                                            output_path=batch_output)\n",
    "\n",
    "xgb_transformer.transform(data=batch_input,\n",
    "                         data_type='S3Prefix',\n",
    "                         content_type='text/csv',\n",
    "                         split_type='Line')\n",
    "xgb_transformer.wait()"
   ]
  },
  {
   "cell_type": "code",
   "execution_count": null,
   "metadata": {},
   "outputs": [],
   "source": [
    "s3 = boto3.client('s3')\n",
    "obj = s3.get_object(Bucket=bucket, Key=\"{}/batch-out/{}\".format(prefix,'batch-in.csv.out'))\n",
    "target_predicted = pd.read_csv(io.BytesIO(obj['Body'].read()),',',names=['class'])\n",
    "target_predicted.head(5)"
   ]
  },
  {
   "cell_type": "code",
   "execution_count": null,
   "metadata": {},
   "outputs": [],
   "source": [
    "def binary_convert(x):\n",
    "    threshold = 0.65\n",
    "    if x > threshold:\n",
    "        return 1\n",
    "    else:\n",
    "        return 0\n",
    "\n",
    "target_predicted['binary'] = target_predicted['class'].apply(binary_convert)\n",
    "\n",
    "print(target_predicted.head(10))\n",
    "testing_v2.head(10)"
   ]
  },
  {
   "cell_type": "markdown",
   "metadata": {},
   "source": [
    "### Report the performance metrics that you see better test the model performance"
   ]
  },
  {
   "cell_type": "code",
   "execution_count": null,
   "metadata": {},
   "outputs": [],
   "source": [
    "#Confusion Matrix\n",
    "def plot_confusion_matrix(test_labels, target_predicted):\n",
    "    cm = confusion_matrix(test_labels, target_predicted, labels=[0,1])\n",
    "    disp = ConfusionMatrixDisplay(confusion_matrix=cm, display_labels=[0,1])\n",
    "    disp.plot()\n",
    "    plt.grid(False) #Remove white lines in plot\n",
    "    plt.show()"
   ]
  },
  {
   "cell_type": "code",
   "execution_count": null,
   "metadata": {},
   "outputs": [],
   "source": [
    "#ROC Curve\n",
    "def plot_roc(test_labels, target_predicted):\n",
    "    fpr, tpr, thresholds = roc_curve(test_labels, target_predicted)\n",
    "    plt.plot(fpr,tpr)\n",
    "    plt.ylabel('True Positive Rate')\n",
    "    plt.xlabel('False Positive Rate')\n",
    "    plt.show()"
   ]
  },
  {
   "cell_type": "code",
   "execution_count": null,
   "metadata": {},
   "outputs": [],
   "source": [
    "plot_confusion_matrix(testing_v2.iloc[:,0], target_predicted.binary)"
   ]
  },
  {
   "cell_type": "code",
   "execution_count": null,
   "metadata": {},
   "outputs": [],
   "source": [
    "plot_roc(testing_v2.iloc[:,0], target_predicted.binary)"
   ]
  },
  {
   "cell_type": "code",
   "execution_count": null,
   "metadata": {},
   "outputs": [],
   "source": [
    "print(classification_report(testing_v2.iloc[:,0], target_predicted.binary))"
   ]
  },
  {
   "cell_type": "markdown",
   "metadata": {},
   "source": [
    "### Write down your observation on the difference between the performance of using the simple and ensemble models."
   ]
  },
  {
   "cell_type": "markdown",
   "metadata": {},
   "source": [
    "Couldn't compare between the Linear Learner and XGBoost because I couldn't get the Linear Learner to complete training because training would take longer than the 2 hours allocated for the Lab Session."
   ]
  },
  {
   "cell_type": "code",
   "execution_count": null,
   "metadata": {},
   "outputs": [],
   "source": []
  }
 ],
 "metadata": {
  "kernelspec": {
   "display_name": "Python 3 (ipykernel)",
   "language": "python",
   "name": "python3"
  },
  "language_info": {
   "codemirror_mode": {
    "name": "ipython",
    "version": 3
   },
   "file_extension": ".py",
   "mimetype": "text/x-python",
   "name": "python",
   "nbconvert_exporter": "python",
   "pygments_lexer": "ipython3",
   "version": "3.10.6"
  }
 },
 "nbformat": 4,
 "nbformat_minor": 4
}
